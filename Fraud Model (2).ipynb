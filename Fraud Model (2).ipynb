{
 "cells": [
  {
   "cell_type": "code",
   "execution_count": 1,
   "metadata": {},
   "outputs": [],
   "source": [
    "import pandas as pd\n",
    "import numpy as np\n",
    "from sklearn.preprocessing import StandardScaler,Normalizer,LabelEncoder\n",
    "from category_encoders.target_encoder import TargetEncoder\n",
    "from sklearn.model_selection import train_test_split,cross_val_score,RandomizedSearchCV,StratifiedKFold\n",
    "from sklearn.linear_model import LogisticRegression\n",
    "from sklearn.tree import DecisionTreeClassifier,ExtraTreeClassifier\n",
    "from sklearn.ensemble import AdaBoostClassifier,GradientBoostingClassifier,RandomForestClassifier\n",
    "from sklearn.pipeline import Pipeline\n",
    "from sklearn.metrics import accuracy_score,classification_report,confusion_matrix"
   ]
  },
  {
   "cell_type": "markdown",
   "metadata": {},
   "source": [
    "# 3. Feature Engineering"
   ]
  },
  {
   "cell_type": "code",
   "execution_count": 2,
   "metadata": {},
   "outputs": [],
   "source": [
    "data = pd.read_csv('Cleaned_Insurance')"
   ]
  },
  {
   "cell_type": "code",
   "execution_count": 3,
   "metadata": {},
   "outputs": [
    {
     "data": {
      "text/html": [
       "<div>\n",
       "<style scoped>\n",
       "    .dataframe tbody tr th:only-of-type {\n",
       "        vertical-align: middle;\n",
       "    }\n",
       "\n",
       "    .dataframe tbody tr th {\n",
       "        vertical-align: top;\n",
       "    }\n",
       "\n",
       "    .dataframe thead th {\n",
       "        text-align: right;\n",
       "    }\n",
       "</style>\n",
       "<table border=\"1\" class=\"dataframe\">\n",
       "  <thead>\n",
       "    <tr style=\"text-align: right;\">\n",
       "      <th></th>\n",
       "      <th>Unnamed: 0</th>\n",
       "      <th>Area_Service</th>\n",
       "      <th>Hospital County</th>\n",
       "      <th>Hospital Id</th>\n",
       "      <th>Age</th>\n",
       "      <th>Gender</th>\n",
       "      <th>Cultural_group</th>\n",
       "      <th>ethnicity</th>\n",
       "      <th>Days_spend_hsptl</th>\n",
       "      <th>Admission_type</th>\n",
       "      <th>...</th>\n",
       "      <th>Mortality risk</th>\n",
       "      <th>Surg_Description</th>\n",
       "      <th>Weight_baby</th>\n",
       "      <th>Abortion</th>\n",
       "      <th>Emergency dept_yes/No</th>\n",
       "      <th>Tot_charg</th>\n",
       "      <th>Tot_cost</th>\n",
       "      <th>ratio_of_total_costs_to_total_charges</th>\n",
       "      <th>Result</th>\n",
       "      <th>Payment_Typology</th>\n",
       "    </tr>\n",
       "  </thead>\n",
       "  <tbody>\n",
       "    <tr>\n",
       "      <th>0</th>\n",
       "      <td>0</td>\n",
       "      <td>Western NY</td>\n",
       "      <td>Allegany</td>\n",
       "      <td>37.0</td>\n",
       "      <td>3</td>\n",
       "      <td>F</td>\n",
       "      <td>White</td>\n",
       "      <td>Not Span/Hispanic</td>\n",
       "      <td>4</td>\n",
       "      <td>Elective</td>\n",
       "      <td>...</td>\n",
       "      <td>1.0</td>\n",
       "      <td>Medical</td>\n",
       "      <td>0</td>\n",
       "      <td>N</td>\n",
       "      <td>Y</td>\n",
       "      <td>5511.95</td>\n",
       "      <td>5582.49</td>\n",
       "      <td>1.012798</td>\n",
       "      <td>1</td>\n",
       "      <td>1</td>\n",
       "    </tr>\n",
       "    <tr>\n",
       "      <th>1</th>\n",
       "      <td>1</td>\n",
       "      <td>Western NY</td>\n",
       "      <td>Allegany</td>\n",
       "      <td>37.0</td>\n",
       "      <td>5</td>\n",
       "      <td>F</td>\n",
       "      <td>White</td>\n",
       "      <td>Not Span/Hispanic</td>\n",
       "      <td>4</td>\n",
       "      <td>Urgent</td>\n",
       "      <td>...</td>\n",
       "      <td>2.0</td>\n",
       "      <td>Medical</td>\n",
       "      <td>0</td>\n",
       "      <td>N</td>\n",
       "      <td>Y</td>\n",
       "      <td>4783.20</td>\n",
       "      <td>5162.82</td>\n",
       "      <td>1.079365</td>\n",
       "      <td>1</td>\n",
       "      <td>1</td>\n",
       "    </tr>\n",
       "    <tr>\n",
       "      <th>2</th>\n",
       "      <td>2</td>\n",
       "      <td>Western NY</td>\n",
       "      <td>Allegany</td>\n",
       "      <td>37.0</td>\n",
       "      <td>3</td>\n",
       "      <td>F</td>\n",
       "      <td>White</td>\n",
       "      <td>Not Span/Hispanic</td>\n",
       "      <td>3</td>\n",
       "      <td>Urgent</td>\n",
       "      <td>...</td>\n",
       "      <td>1.0</td>\n",
       "      <td>Medical</td>\n",
       "      <td>0</td>\n",
       "      <td>N</td>\n",
       "      <td>Y</td>\n",
       "      <td>3829.15</td>\n",
       "      <td>4056.52</td>\n",
       "      <td>1.059379</td>\n",
       "      <td>1</td>\n",
       "      <td>1</td>\n",
       "    </tr>\n",
       "    <tr>\n",
       "      <th>3</th>\n",
       "      <td>3</td>\n",
       "      <td>Western NY</td>\n",
       "      <td>Allegany</td>\n",
       "      <td>37.0</td>\n",
       "      <td>1</td>\n",
       "      <td>F</td>\n",
       "      <td>White</td>\n",
       "      <td>Not Span/Hispanic</td>\n",
       "      <td>1</td>\n",
       "      <td>Urgent</td>\n",
       "      <td>...</td>\n",
       "      <td>1.0</td>\n",
       "      <td>Medical</td>\n",
       "      <td>0</td>\n",
       "      <td>N</td>\n",
       "      <td>Y</td>\n",
       "      <td>1108.20</td>\n",
       "      <td>1644.75</td>\n",
       "      <td>1.484167</td>\n",
       "      <td>0</td>\n",
       "      <td>1</td>\n",
       "    </tr>\n",
       "    <tr>\n",
       "      <th>4</th>\n",
       "      <td>4</td>\n",
       "      <td>Western NY</td>\n",
       "      <td>Allegany</td>\n",
       "      <td>37.0</td>\n",
       "      <td>5</td>\n",
       "      <td>F</td>\n",
       "      <td>White</td>\n",
       "      <td>Not Span/Hispanic</td>\n",
       "      <td>3</td>\n",
       "      <td>Elective</td>\n",
       "      <td>...</td>\n",
       "      <td>3.0</td>\n",
       "      <td>Medical</td>\n",
       "      <td>0</td>\n",
       "      <td>N</td>\n",
       "      <td>Y</td>\n",
       "      <td>3418.18</td>\n",
       "      <td>3370.87</td>\n",
       "      <td>0.986161</td>\n",
       "      <td>1</td>\n",
       "      <td>1</td>\n",
       "    </tr>\n",
       "    <tr>\n",
       "      <th>...</th>\n",
       "      <td>...</td>\n",
       "      <td>...</td>\n",
       "      <td>...</td>\n",
       "      <td>...</td>\n",
       "      <td>...</td>\n",
       "      <td>...</td>\n",
       "      <td>...</td>\n",
       "      <td>...</td>\n",
       "      <td>...</td>\n",
       "      <td>...</td>\n",
       "      <td>...</td>\n",
       "      <td>...</td>\n",
       "      <td>...</td>\n",
       "      <td>...</td>\n",
       "      <td>...</td>\n",
       "      <td>...</td>\n",
       "      <td>...</td>\n",
       "      <td>...</td>\n",
       "      <td>...</td>\n",
       "      <td>...</td>\n",
       "      <td>...</td>\n",
       "    </tr>\n",
       "    <tr>\n",
       "      <th>1026365</th>\n",
       "      <td>1048570</td>\n",
       "      <td>New York City</td>\n",
       "      <td>Bronx</td>\n",
       "      <td>1169.0</td>\n",
       "      <td>5</td>\n",
       "      <td>F</td>\n",
       "      <td>Other Race</td>\n",
       "      <td>Spanish/Hispanic</td>\n",
       "      <td>6</td>\n",
       "      <td>Emergency</td>\n",
       "      <td>...</td>\n",
       "      <td>3.0</td>\n",
       "      <td>Medical</td>\n",
       "      <td>0</td>\n",
       "      <td>N</td>\n",
       "      <td>Y</td>\n",
       "      <td>69650.41</td>\n",
       "      <td>13896.82</td>\n",
       "      <td>0.199522</td>\n",
       "      <td>1</td>\n",
       "      <td>3</td>\n",
       "    </tr>\n",
       "    <tr>\n",
       "      <th>1026366</th>\n",
       "      <td>1048571</td>\n",
       "      <td>New York City</td>\n",
       "      <td>Bronx</td>\n",
       "      <td>1169.0</td>\n",
       "      <td>1</td>\n",
       "      <td>F</td>\n",
       "      <td>Other Race</td>\n",
       "      <td>Not Span/Hispanic</td>\n",
       "      <td>2</td>\n",
       "      <td>Emergency</td>\n",
       "      <td>...</td>\n",
       "      <td>1.0</td>\n",
       "      <td>Medical</td>\n",
       "      <td>0</td>\n",
       "      <td>N</td>\n",
       "      <td>N</td>\n",
       "      <td>13587.38</td>\n",
       "      <td>3918.35</td>\n",
       "      <td>0.288382</td>\n",
       "      <td>1</td>\n",
       "      <td>3</td>\n",
       "    </tr>\n",
       "    <tr>\n",
       "      <th>1026367</th>\n",
       "      <td>1048572</td>\n",
       "      <td>New York City</td>\n",
       "      <td>Bronx</td>\n",
       "      <td>1169.0</td>\n",
       "      <td>4</td>\n",
       "      <td>M</td>\n",
       "      <td>Other Race</td>\n",
       "      <td>Spanish/Hispanic</td>\n",
       "      <td>13</td>\n",
       "      <td>Emergency</td>\n",
       "      <td>...</td>\n",
       "      <td>4.0</td>\n",
       "      <td>Medical</td>\n",
       "      <td>0</td>\n",
       "      <td>N</td>\n",
       "      <td>Y</td>\n",
       "      <td>104629.78</td>\n",
       "      <td>24746.64</td>\n",
       "      <td>0.236516</td>\n",
       "      <td>0</td>\n",
       "      <td>3</td>\n",
       "    </tr>\n",
       "    <tr>\n",
       "      <th>1026368</th>\n",
       "      <td>1048573</td>\n",
       "      <td>New York City</td>\n",
       "      <td>Bronx</td>\n",
       "      <td>1169.0</td>\n",
       "      <td>3</td>\n",
       "      <td>F</td>\n",
       "      <td>Black/African American</td>\n",
       "      <td>Not Span/Hispanic</td>\n",
       "      <td>2</td>\n",
       "      <td>Emergency</td>\n",
       "      <td>...</td>\n",
       "      <td>1.0</td>\n",
       "      <td>Surgical</td>\n",
       "      <td>0</td>\n",
       "      <td>N</td>\n",
       "      <td>Y</td>\n",
       "      <td>27521.41</td>\n",
       "      <td>6766.04</td>\n",
       "      <td>0.245846</td>\n",
       "      <td>1</td>\n",
       "      <td>3</td>\n",
       "    </tr>\n",
       "    <tr>\n",
       "      <th>1026369</th>\n",
       "      <td>1048574</td>\n",
       "      <td>New York City</td>\n",
       "      <td>Bronx</td>\n",
       "      <td>1169.0</td>\n",
       "      <td>4</td>\n",
       "      <td>M</td>\n",
       "      <td>Other Race</td>\n",
       "      <td>Spanish/Hispanic</td>\n",
       "      <td>2</td>\n",
       "      <td>Emergency</td>\n",
       "      <td>...</td>\n",
       "      <td>1.0</td>\n",
       "      <td>Medical</td>\n",
       "      <td>0</td>\n",
       "      <td>N</td>\n",
       "      <td>Y</td>\n",
       "      <td>24832.23</td>\n",
       "      <td>4974.66</td>\n",
       "      <td>0.200331</td>\n",
       "      <td>1</td>\n",
       "      <td>2</td>\n",
       "    </tr>\n",
       "  </tbody>\n",
       "</table>\n",
       "<p>1026370 rows × 25 columns</p>\n",
       "</div>"
      ],
      "text/plain": [
       "         Unnamed: 0   Area_Service Hospital County  Hospital Id  Age Gender  \\\n",
       "0                 0     Western NY        Allegany         37.0    3      F   \n",
       "1                 1     Western NY        Allegany         37.0    5      F   \n",
       "2                 2     Western NY        Allegany         37.0    3      F   \n",
       "3                 3     Western NY        Allegany         37.0    1      F   \n",
       "4                 4     Western NY        Allegany         37.0    5      F   \n",
       "...             ...            ...             ...          ...  ...    ...   \n",
       "1026365     1048570  New York City           Bronx       1169.0    5      F   \n",
       "1026366     1048571  New York City           Bronx       1169.0    1      F   \n",
       "1026367     1048572  New York City           Bronx       1169.0    4      M   \n",
       "1026368     1048573  New York City           Bronx       1169.0    3      F   \n",
       "1026369     1048574  New York City           Bronx       1169.0    4      M   \n",
       "\n",
       "                 Cultural_group          ethnicity  Days_spend_hsptl  \\\n",
       "0                         White  Not Span/Hispanic                 4   \n",
       "1                         White  Not Span/Hispanic                 4   \n",
       "2                         White  Not Span/Hispanic                 3   \n",
       "3                         White  Not Span/Hispanic                 1   \n",
       "4                         White  Not Span/Hispanic                 3   \n",
       "...                         ...                ...               ...   \n",
       "1026365              Other Race   Spanish/Hispanic                 6   \n",
       "1026366              Other Race  Not Span/Hispanic                 2   \n",
       "1026367              Other Race   Spanish/Hispanic                13   \n",
       "1026368  Black/African American  Not Span/Hispanic                 2   \n",
       "1026369              Other Race   Spanish/Hispanic                 2   \n",
       "\n",
       "        Admission_type  ... Mortality risk  Surg_Description  Weight_baby  \\\n",
       "0             Elective  ...            1.0           Medical            0   \n",
       "1               Urgent  ...            2.0           Medical            0   \n",
       "2               Urgent  ...            1.0           Medical            0   \n",
       "3               Urgent  ...            1.0           Medical            0   \n",
       "4             Elective  ...            3.0           Medical            0   \n",
       "...                ...  ...            ...               ...          ...   \n",
       "1026365      Emergency  ...            3.0           Medical            0   \n",
       "1026366      Emergency  ...            1.0           Medical            0   \n",
       "1026367      Emergency  ...            4.0           Medical            0   \n",
       "1026368      Emergency  ...            1.0          Surgical            0   \n",
       "1026369      Emergency  ...            1.0           Medical            0   \n",
       "\n",
       "        Abortion  Emergency dept_yes/No  Tot_charg  Tot_cost  \\\n",
       "0              N                      Y    5511.95   5582.49   \n",
       "1              N                      Y    4783.20   5162.82   \n",
       "2              N                      Y    3829.15   4056.52   \n",
       "3              N                      Y    1108.20   1644.75   \n",
       "4              N                      Y    3418.18   3370.87   \n",
       "...          ...                    ...        ...       ...   \n",
       "1026365        N                      Y   69650.41  13896.82   \n",
       "1026366        N                      N   13587.38   3918.35   \n",
       "1026367        N                      Y  104629.78  24746.64   \n",
       "1026368        N                      Y   27521.41   6766.04   \n",
       "1026369        N                      Y   24832.23   4974.66   \n",
       "\n",
       "         ratio_of_total_costs_to_total_charges Result Payment_Typology  \n",
       "0                                     1.012798      1                1  \n",
       "1                                     1.079365      1                1  \n",
       "2                                     1.059379      1                1  \n",
       "3                                     1.484167      0                1  \n",
       "4                                     0.986161      1                1  \n",
       "...                                        ...    ...              ...  \n",
       "1026365                               0.199522      1                3  \n",
       "1026366                               0.288382      1                3  \n",
       "1026367                               0.236516      0                3  \n",
       "1026368                               0.245846      1                3  \n",
       "1026369                               0.200331      1                2  \n",
       "\n",
       "[1026370 rows x 25 columns]"
      ]
     },
     "execution_count": 3,
     "metadata": {},
     "output_type": "execute_result"
    }
   ],
   "source": [
    "data"
   ]
  },
  {
   "cell_type": "code",
   "execution_count": 4,
   "metadata": {},
   "outputs": [],
   "source": [
    "data.drop('Unnamed: 0', axis = 1, inplace = True)"
   ]
  },
  {
   "cell_type": "code",
   "execution_count": 5,
   "metadata": {},
   "outputs": [
    {
     "data": {
      "text/html": [
       "<div>\n",
       "<style scoped>\n",
       "    .dataframe tbody tr th:only-of-type {\n",
       "        vertical-align: middle;\n",
       "    }\n",
       "\n",
       "    .dataframe tbody tr th {\n",
       "        vertical-align: top;\n",
       "    }\n",
       "\n",
       "    .dataframe thead th {\n",
       "        text-align: right;\n",
       "    }\n",
       "</style>\n",
       "<table border=\"1\" class=\"dataframe\">\n",
       "  <thead>\n",
       "    <tr style=\"text-align: right;\">\n",
       "      <th></th>\n",
       "      <th>Area_Service</th>\n",
       "      <th>Hospital County</th>\n",
       "      <th>Hospital Id</th>\n",
       "      <th>Age</th>\n",
       "      <th>Gender</th>\n",
       "      <th>Cultural_group</th>\n",
       "      <th>ethnicity</th>\n",
       "      <th>Days_spend_hsptl</th>\n",
       "      <th>Admission_type</th>\n",
       "      <th>Home or self care,</th>\n",
       "      <th>...</th>\n",
       "      <th>Mortality risk</th>\n",
       "      <th>Surg_Description</th>\n",
       "      <th>Weight_baby</th>\n",
       "      <th>Abortion</th>\n",
       "      <th>Emergency dept_yes/No</th>\n",
       "      <th>Tot_charg</th>\n",
       "      <th>Tot_cost</th>\n",
       "      <th>ratio_of_total_costs_to_total_charges</th>\n",
       "      <th>Result</th>\n",
       "      <th>Payment_Typology</th>\n",
       "    </tr>\n",
       "  </thead>\n",
       "  <tbody>\n",
       "    <tr>\n",
       "      <th>0</th>\n",
       "      <td>Western NY</td>\n",
       "      <td>Allegany</td>\n",
       "      <td>37.0</td>\n",
       "      <td>3</td>\n",
       "      <td>F</td>\n",
       "      <td>White</td>\n",
       "      <td>Not Span/Hispanic</td>\n",
       "      <td>4</td>\n",
       "      <td>Elective</td>\n",
       "      <td>Home or Self Care</td>\n",
       "      <td>...</td>\n",
       "      <td>1.0</td>\n",
       "      <td>Medical</td>\n",
       "      <td>0</td>\n",
       "      <td>N</td>\n",
       "      <td>Y</td>\n",
       "      <td>5511.95</td>\n",
       "      <td>5582.49</td>\n",
       "      <td>1.012798</td>\n",
       "      <td>1</td>\n",
       "      <td>1</td>\n",
       "    </tr>\n",
       "    <tr>\n",
       "      <th>1</th>\n",
       "      <td>Western NY</td>\n",
       "      <td>Allegany</td>\n",
       "      <td>37.0</td>\n",
       "      <td>5</td>\n",
       "      <td>F</td>\n",
       "      <td>White</td>\n",
       "      <td>Not Span/Hispanic</td>\n",
       "      <td>4</td>\n",
       "      <td>Urgent</td>\n",
       "      <td>Short-term Hospital</td>\n",
       "      <td>...</td>\n",
       "      <td>2.0</td>\n",
       "      <td>Medical</td>\n",
       "      <td>0</td>\n",
       "      <td>N</td>\n",
       "      <td>Y</td>\n",
       "      <td>4783.20</td>\n",
       "      <td>5162.82</td>\n",
       "      <td>1.079365</td>\n",
       "      <td>1</td>\n",
       "      <td>1</td>\n",
       "    </tr>\n",
       "    <tr>\n",
       "      <th>2</th>\n",
       "      <td>Western NY</td>\n",
       "      <td>Allegany</td>\n",
       "      <td>37.0</td>\n",
       "      <td>3</td>\n",
       "      <td>F</td>\n",
       "      <td>White</td>\n",
       "      <td>Not Span/Hispanic</td>\n",
       "      <td>3</td>\n",
       "      <td>Urgent</td>\n",
       "      <td>Home or Self Care</td>\n",
       "      <td>...</td>\n",
       "      <td>1.0</td>\n",
       "      <td>Medical</td>\n",
       "      <td>0</td>\n",
       "      <td>N</td>\n",
       "      <td>Y</td>\n",
       "      <td>3829.15</td>\n",
       "      <td>4056.52</td>\n",
       "      <td>1.059379</td>\n",
       "      <td>1</td>\n",
       "      <td>1</td>\n",
       "    </tr>\n",
       "    <tr>\n",
       "      <th>3</th>\n",
       "      <td>Western NY</td>\n",
       "      <td>Allegany</td>\n",
       "      <td>37.0</td>\n",
       "      <td>1</td>\n",
       "      <td>F</td>\n",
       "      <td>White</td>\n",
       "      <td>Not Span/Hispanic</td>\n",
       "      <td>1</td>\n",
       "      <td>Urgent</td>\n",
       "      <td>Home or Self Care</td>\n",
       "      <td>...</td>\n",
       "      <td>1.0</td>\n",
       "      <td>Medical</td>\n",
       "      <td>0</td>\n",
       "      <td>N</td>\n",
       "      <td>Y</td>\n",
       "      <td>1108.20</td>\n",
       "      <td>1644.75</td>\n",
       "      <td>1.484167</td>\n",
       "      <td>0</td>\n",
       "      <td>1</td>\n",
       "    </tr>\n",
       "    <tr>\n",
       "      <th>4</th>\n",
       "      <td>Western NY</td>\n",
       "      <td>Allegany</td>\n",
       "      <td>37.0</td>\n",
       "      <td>5</td>\n",
       "      <td>F</td>\n",
       "      <td>White</td>\n",
       "      <td>Not Span/Hispanic</td>\n",
       "      <td>3</td>\n",
       "      <td>Elective</td>\n",
       "      <td>Home or Self Care</td>\n",
       "      <td>...</td>\n",
       "      <td>3.0</td>\n",
       "      <td>Medical</td>\n",
       "      <td>0</td>\n",
       "      <td>N</td>\n",
       "      <td>Y</td>\n",
       "      <td>3418.18</td>\n",
       "      <td>3370.87</td>\n",
       "      <td>0.986161</td>\n",
       "      <td>1</td>\n",
       "      <td>1</td>\n",
       "    </tr>\n",
       "    <tr>\n",
       "      <th>...</th>\n",
       "      <td>...</td>\n",
       "      <td>...</td>\n",
       "      <td>...</td>\n",
       "      <td>...</td>\n",
       "      <td>...</td>\n",
       "      <td>...</td>\n",
       "      <td>...</td>\n",
       "      <td>...</td>\n",
       "      <td>...</td>\n",
       "      <td>...</td>\n",
       "      <td>...</td>\n",
       "      <td>...</td>\n",
       "      <td>...</td>\n",
       "      <td>...</td>\n",
       "      <td>...</td>\n",
       "      <td>...</td>\n",
       "      <td>...</td>\n",
       "      <td>...</td>\n",
       "      <td>...</td>\n",
       "      <td>...</td>\n",
       "      <td>...</td>\n",
       "    </tr>\n",
       "    <tr>\n",
       "      <th>1026365</th>\n",
       "      <td>New York City</td>\n",
       "      <td>Bronx</td>\n",
       "      <td>1169.0</td>\n",
       "      <td>5</td>\n",
       "      <td>F</td>\n",
       "      <td>Other Race</td>\n",
       "      <td>Spanish/Hispanic</td>\n",
       "      <td>6</td>\n",
       "      <td>Emergency</td>\n",
       "      <td>Skilled Nursing Home</td>\n",
       "      <td>...</td>\n",
       "      <td>3.0</td>\n",
       "      <td>Medical</td>\n",
       "      <td>0</td>\n",
       "      <td>N</td>\n",
       "      <td>Y</td>\n",
       "      <td>69650.41</td>\n",
       "      <td>13896.82</td>\n",
       "      <td>0.199522</td>\n",
       "      <td>1</td>\n",
       "      <td>3</td>\n",
       "    </tr>\n",
       "    <tr>\n",
       "      <th>1026366</th>\n",
       "      <td>New York City</td>\n",
       "      <td>Bronx</td>\n",
       "      <td>1169.0</td>\n",
       "      <td>1</td>\n",
       "      <td>F</td>\n",
       "      <td>Other Race</td>\n",
       "      <td>Not Span/Hispanic</td>\n",
       "      <td>2</td>\n",
       "      <td>Emergency</td>\n",
       "      <td>Home or Self Care</td>\n",
       "      <td>...</td>\n",
       "      <td>1.0</td>\n",
       "      <td>Medical</td>\n",
       "      <td>0</td>\n",
       "      <td>N</td>\n",
       "      <td>N</td>\n",
       "      <td>13587.38</td>\n",
       "      <td>3918.35</td>\n",
       "      <td>0.288382</td>\n",
       "      <td>1</td>\n",
       "      <td>3</td>\n",
       "    </tr>\n",
       "    <tr>\n",
       "      <th>1026367</th>\n",
       "      <td>New York City</td>\n",
       "      <td>Bronx</td>\n",
       "      <td>1169.0</td>\n",
       "      <td>4</td>\n",
       "      <td>M</td>\n",
       "      <td>Other Race</td>\n",
       "      <td>Spanish/Hispanic</td>\n",
       "      <td>13</td>\n",
       "      <td>Emergency</td>\n",
       "      <td>Medicare Cert Long Term Care Hospital</td>\n",
       "      <td>...</td>\n",
       "      <td>4.0</td>\n",
       "      <td>Medical</td>\n",
       "      <td>0</td>\n",
       "      <td>N</td>\n",
       "      <td>Y</td>\n",
       "      <td>104629.78</td>\n",
       "      <td>24746.64</td>\n",
       "      <td>0.236516</td>\n",
       "      <td>0</td>\n",
       "      <td>3</td>\n",
       "    </tr>\n",
       "    <tr>\n",
       "      <th>1026368</th>\n",
       "      <td>New York City</td>\n",
       "      <td>Bronx</td>\n",
       "      <td>1169.0</td>\n",
       "      <td>3</td>\n",
       "      <td>F</td>\n",
       "      <td>Black/African American</td>\n",
       "      <td>Not Span/Hispanic</td>\n",
       "      <td>2</td>\n",
       "      <td>Emergency</td>\n",
       "      <td>Home or Self Care</td>\n",
       "      <td>...</td>\n",
       "      <td>1.0</td>\n",
       "      <td>Surgical</td>\n",
       "      <td>0</td>\n",
       "      <td>N</td>\n",
       "      <td>Y</td>\n",
       "      <td>27521.41</td>\n",
       "      <td>6766.04</td>\n",
       "      <td>0.245846</td>\n",
       "      <td>1</td>\n",
       "      <td>3</td>\n",
       "    </tr>\n",
       "    <tr>\n",
       "      <th>1026369</th>\n",
       "      <td>New York City</td>\n",
       "      <td>Bronx</td>\n",
       "      <td>1169.0</td>\n",
       "      <td>4</td>\n",
       "      <td>M</td>\n",
       "      <td>Other Race</td>\n",
       "      <td>Spanish/Hispanic</td>\n",
       "      <td>2</td>\n",
       "      <td>Emergency</td>\n",
       "      <td>Home or Self Care</td>\n",
       "      <td>...</td>\n",
       "      <td>1.0</td>\n",
       "      <td>Medical</td>\n",
       "      <td>0</td>\n",
       "      <td>N</td>\n",
       "      <td>Y</td>\n",
       "      <td>24832.23</td>\n",
       "      <td>4974.66</td>\n",
       "      <td>0.200331</td>\n",
       "      <td>1</td>\n",
       "      <td>2</td>\n",
       "    </tr>\n",
       "  </tbody>\n",
       "</table>\n",
       "<p>1026370 rows × 24 columns</p>\n",
       "</div>"
      ],
      "text/plain": [
       "          Area_Service Hospital County  Hospital Id  Age Gender  \\\n",
       "0           Western NY        Allegany         37.0    3      F   \n",
       "1           Western NY        Allegany         37.0    5      F   \n",
       "2           Western NY        Allegany         37.0    3      F   \n",
       "3           Western NY        Allegany         37.0    1      F   \n",
       "4           Western NY        Allegany         37.0    5      F   \n",
       "...                ...             ...          ...  ...    ...   \n",
       "1026365  New York City           Bronx       1169.0    5      F   \n",
       "1026366  New York City           Bronx       1169.0    1      F   \n",
       "1026367  New York City           Bronx       1169.0    4      M   \n",
       "1026368  New York City           Bronx       1169.0    3      F   \n",
       "1026369  New York City           Bronx       1169.0    4      M   \n",
       "\n",
       "                 Cultural_group          ethnicity  Days_spend_hsptl  \\\n",
       "0                         White  Not Span/Hispanic                 4   \n",
       "1                         White  Not Span/Hispanic                 4   \n",
       "2                         White  Not Span/Hispanic                 3   \n",
       "3                         White  Not Span/Hispanic                 1   \n",
       "4                         White  Not Span/Hispanic                 3   \n",
       "...                         ...                ...               ...   \n",
       "1026365              Other Race   Spanish/Hispanic                 6   \n",
       "1026366              Other Race  Not Span/Hispanic                 2   \n",
       "1026367              Other Race   Spanish/Hispanic                13   \n",
       "1026368  Black/African American  Not Span/Hispanic                 2   \n",
       "1026369              Other Race   Spanish/Hispanic                 2   \n",
       "\n",
       "        Admission_type                     Home or self care,  ...  \\\n",
       "0             Elective                      Home or Self Care  ...   \n",
       "1               Urgent                    Short-term Hospital  ...   \n",
       "2               Urgent                      Home or Self Care  ...   \n",
       "3               Urgent                      Home or Self Care  ...   \n",
       "4             Elective                      Home or Self Care  ...   \n",
       "...                ...                                    ...  ...   \n",
       "1026365      Emergency                   Skilled Nursing Home  ...   \n",
       "1026366      Emergency                      Home or Self Care  ...   \n",
       "1026367      Emergency  Medicare Cert Long Term Care Hospital  ...   \n",
       "1026368      Emergency                      Home or Self Care  ...   \n",
       "1026369      Emergency                      Home or Self Care  ...   \n",
       "\n",
       "         Mortality risk  Surg_Description Weight_baby  Abortion  \\\n",
       "0                   1.0           Medical           0         N   \n",
       "1                   2.0           Medical           0         N   \n",
       "2                   1.0           Medical           0         N   \n",
       "3                   1.0           Medical           0         N   \n",
       "4                   3.0           Medical           0         N   \n",
       "...                 ...               ...         ...       ...   \n",
       "1026365             3.0           Medical           0         N   \n",
       "1026366             1.0           Medical           0         N   \n",
       "1026367             4.0           Medical           0         N   \n",
       "1026368             1.0          Surgical           0         N   \n",
       "1026369             1.0           Medical           0         N   \n",
       "\n",
       "         Emergency dept_yes/No  Tot_charg  Tot_cost  \\\n",
       "0                            Y    5511.95   5582.49   \n",
       "1                            Y    4783.20   5162.82   \n",
       "2                            Y    3829.15   4056.52   \n",
       "3                            Y    1108.20   1644.75   \n",
       "4                            Y    3418.18   3370.87   \n",
       "...                        ...        ...       ...   \n",
       "1026365                      Y   69650.41  13896.82   \n",
       "1026366                      N   13587.38   3918.35   \n",
       "1026367                      Y  104629.78  24746.64   \n",
       "1026368                      Y   27521.41   6766.04   \n",
       "1026369                      Y   24832.23   4974.66   \n",
       "\n",
       "        ratio_of_total_costs_to_total_charges Result  Payment_Typology  \n",
       "0                                    1.012798      1                 1  \n",
       "1                                    1.079365      1                 1  \n",
       "2                                    1.059379      1                 1  \n",
       "3                                    1.484167      0                 1  \n",
       "4                                    0.986161      1                 1  \n",
       "...                                       ...    ...               ...  \n",
       "1026365                              0.199522      1                 3  \n",
       "1026366                              0.288382      1                 3  \n",
       "1026367                              0.236516      0                 3  \n",
       "1026368                              0.245846      1                 3  \n",
       "1026369                              0.200331      1                 2  \n",
       "\n",
       "[1026370 rows x 24 columns]"
      ]
     },
     "execution_count": 5,
     "metadata": {},
     "output_type": "execute_result"
    }
   ],
   "source": [
    "data"
   ]
  },
  {
   "cell_type": "code",
   "execution_count": null,
   "metadata": {},
   "outputs": [],
   "source": []
  },
  {
   "cell_type": "markdown",
   "metadata": {},
   "source": [
    "## 3.1. Data Type Conversion "
   ]
  },
  {
   "cell_type": "code",
   "execution_count": null,
   "metadata": {},
   "outputs": [],
   "source": []
  },
  {
   "cell_type": "code",
   "execution_count": 6,
   "metadata": {},
   "outputs": [
    {
     "data": {
      "text/plain": [
       "N    1026370\n",
       "Name: Abortion, dtype: int64"
      ]
     },
     "execution_count": 6,
     "metadata": {},
     "output_type": "execute_result"
    }
   ],
   "source": [
    "data['Abortion'].value_counts()"
   ]
  },
  {
   "cell_type": "code",
   "execution_count": 7,
   "metadata": {
    "scrolled": true
   },
   "outputs": [
    {
     "data": {
      "text/plain": [
       "White                     767908\n",
       "Black/African American    131268\n",
       "Other Race                123569\n",
       "Unknown                     3625\n",
       "Name: Cultural_group, dtype: int64"
      ]
     },
     "execution_count": 7,
     "metadata": {},
     "output_type": "execute_result"
    }
   ],
   "source": [
    "data['Cultural_group'].value_counts()"
   ]
  },
  {
   "cell_type": "code",
   "execution_count": 8,
   "metadata": {},
   "outputs": [],
   "source": [
    "data = data.replace({'Unknown':'Other Race'})"
   ]
  },
  {
   "cell_type": "code",
   "execution_count": 9,
   "metadata": {},
   "outputs": [
    {
     "data": {
      "text/plain": [
       "Not Span/Hispanic    892113\n",
       "Spanish/Hispanic      85053\n",
       "Other Race            49204\n",
       "Name: ethnicity, dtype: int64"
      ]
     },
     "execution_count": 9,
     "metadata": {},
     "output_type": "execute_result"
    }
   ],
   "source": [
    "data['ethnicity'].value_counts()"
   ]
  },
  {
   "cell_type": "code",
   "execution_count": 10,
   "metadata": {},
   "outputs": [
    {
     "data": {
      "text/plain": [
       "2    421518\n",
       "1    337197\n",
       "3    264224\n",
       "4      3374\n",
       "5        57\n",
       "Name: Payment_Typology, dtype: int64"
      ]
     },
     "execution_count": 10,
     "metadata": {},
     "output_type": "execute_result"
    }
   ],
   "source": [
    "data['Payment_Typology'].value_counts()"
   ]
  },
  {
   "cell_type": "code",
   "execution_count": 11,
   "metadata": {},
   "outputs": [],
   "source": [
    "data = data[(data['Payment_Typology']!=5)&(data['Payment_Typology']!=4)]"
   ]
  },
  {
   "cell_type": "code",
   "execution_count": 12,
   "metadata": {},
   "outputs": [],
   "source": [
    "data = data[data['Gender']!= 'U']"
   ]
  },
  {
   "cell_type": "code",
   "execution_count": 13,
   "metadata": {},
   "outputs": [
    {
     "data": {
      "text/plain": [
       "Emergency        594662\n",
       "Elective         231764\n",
       "Urgent           108121\n",
       "Newborn           85229\n",
       "Trauma             2135\n",
       "Not Available      1001\n",
       "Name: Admission_type, dtype: int64"
      ]
     },
     "execution_count": 13,
     "metadata": {},
     "output_type": "execute_result"
    }
   ],
   "source": [
    "data['Admission_type'].value_counts()"
   ]
  },
  {
   "cell_type": "code",
   "execution_count": 14,
   "metadata": {},
   "outputs": [],
   "source": [
    "data = data[data['Admission_type']!='Not Available']"
   ]
  },
  {
   "cell_type": "code",
   "execution_count": 15,
   "metadata": {},
   "outputs": [],
   "source": [
    "data = data.replace({'Trauma':'Urgent'})"
   ]
  },
  {
   "cell_type": "code",
   "execution_count": 16,
   "metadata": {},
   "outputs": [
    {
     "data": {
      "text/plain": [
       "Home or Self Care                        681324\n",
       "Home w/ Home Health Services             128352\n",
       "Skilled Nursing Home                     105069\n",
       "Short-term Hospital                       20852\n",
       "Expired                                   20753\n",
       "Left Against Medical Advice               16865\n",
       "Inpatient Rehabilitation Facility         15868\n",
       "Psychiatric Hospital or Unit of Hosp       6462\n",
       "Hospice - Medical Facility                 4640\n",
       "Hospice - Home                             4590\n",
       "Another Type Not Listed                    4422\n",
       "Facility w/ Custodial/Supportive Care      3442\n",
       "Court/Law Enforcement                      3199\n",
       "Medicare Cert Long Term Care Hospital      1979\n",
       "Hosp Basd Medicare Approved Swing Bed      1858\n",
       "Cancer Center or Children's Hospital       1754\n",
       "Federal Health Care Facility                445\n",
       "Critical Access Hospital                     30\n",
       "Medicaid Cert Nursing Facility                7\n",
       "Name: Home or self care,, dtype: int64"
      ]
     },
     "execution_count": 16,
     "metadata": {},
     "output_type": "execute_result"
    }
   ],
   "source": [
    "data['Home or self care,'].value_counts()"
   ]
  },
  {
   "cell_type": "code",
   "execution_count": 17,
   "metadata": {},
   "outputs": [],
   "source": [
    "data = data.replace({'Hospice - Home':'Home w/ Home Health Services',\n",
    "                     'Hospice - Medical Facility':'Medical Facility',\n",
    "                    'Medicaid Cert Nursing Facility':'Medical Facility',\n",
    "                     'Critical Access Hospital':'Medical Facility',\n",
    "                    'Federal Health Care Facility':'Medical Facility',\n",
    "                     \"Cancer Center or Children's Hospital\":'Medical Facility',\n",
    "                    'Hosp Basd Medicare Approved Swing Bed':'Medical Facility',\n",
    "                     'Medicare Cert Long Term Care Hospital':'Medical Facility',\n",
    "                     'Facility w/ Custodial/Supportive Care':'Medical Facility',\n",
    "                     'Psychiatric Hospital or Unit of Hosp':'Medical Facility'})"
   ]
  },
  {
   "cell_type": "code",
   "execution_count": 18,
   "metadata": {},
   "outputs": [
    {
     "data": {
      "text/plain": [
       "Home or Self Care                    681324\n",
       "Home w/ Home Health Services         132942\n",
       "Skilled Nursing Home                 105069\n",
       "Short-term Hospital                   20852\n",
       "Expired                               20753\n",
       "Medical Facility                      20617\n",
       "Left Against Medical Advice           16865\n",
       "Inpatient Rehabilitation Facility     15868\n",
       "Another Type Not Listed                4422\n",
       "Court/Law Enforcement                  3199\n",
       "Name: Home or self care,, dtype: int64"
      ]
     },
     "execution_count": 18,
     "metadata": {},
     "output_type": "execute_result"
    }
   ],
   "source": [
    "data['Home or self care,'].value_counts()"
   ]
  },
  {
   "cell_type": "code",
   "execution_count": 19,
   "metadata": {},
   "outputs": [
    {
     "data": {
      "text/plain": [
       "Hudson Valley      252827\n",
       "Western NY         176664\n",
       "Central NY         168659\n",
       "Capital/Adirond    166727\n",
       "Finger Lakes       154185\n",
       "New York City       71352\n",
       "Southern Tier       31497\n",
       "Name: Area_Service, dtype: int64"
      ]
     },
     "execution_count": 19,
     "metadata": {},
     "output_type": "execute_result"
    }
   ],
   "source": [
    "data['Area_Service'].value_counts()"
   ]
  },
  {
   "cell_type": "code",
   "execution_count": 20,
   "metadata": {},
   "outputs": [
    {
     "data": {
      "text/plain": [
       "array([  1,   2,   3,   4,   5,   6,   7,   8,   9,  10,  11,  12,  13,\n",
       "        14,  15,  16,  17,  18,  19,  20,  21,  22,  23,  24,  25,  26,\n",
       "        27,  28,  29,  30,  31,  32,  33,  34,  35,  36,  37,  38,  39,\n",
       "        40,  41,  42,  43,  44,  45,  46,  47,  48,  49,  50,  51,  52,\n",
       "        53,  54,  55,  56,  57,  58,  59,  60,  61,  62,  63,  64,  76,\n",
       "        77,  78,  79,  80,  81,  82,  83,  84,  85,  86,  87,  88,  89,\n",
       "        90,  91,  92,  93,  94,  95,  96,  97,  98,  99, 100, 101, 102,\n",
       "       103, 104, 105, 106, 107, 108, 109, 110, 111, 112, 113, 114, 115,\n",
       "       116, 117, 118, 119, 120, 121, 122, 123, 124, 125, 126, 127, 128,\n",
       "       129, 130, 131, 132, 133, 134, 135, 136, 137, 138, 139, 140, 141,\n",
       "       142, 143, 144, 145, 146, 147, 148, 149, 151, 152, 153, 154, 155,\n",
       "       156, 157, 158, 159, 160, 161, 162, 163, 164, 165, 166, 167, 168,\n",
       "       169, 170, 171, 172, 173, 174, 175, 176, 181, 182, 183, 184, 185,\n",
       "       186, 187, 188, 189, 190, 191, 192, 193, 194, 195, 196, 197, 198,\n",
       "       199, 200, 201, 202, 203, 204, 205, 206, 207, 208, 209, 210, 211,\n",
       "       212, 213, 214, 215, 216, 217, 218, 219, 220, 221, 222, 223, 224,\n",
       "       225, 226, 227, 228, 229, 230, 231, 232, 233, 234, 235, 236, 237,\n",
       "       238, 239, 240, 241, 242, 243, 244, 245, 246, 247, 248, 249, 250,\n",
       "       251, 252, 253, 254, 255, 256, 257, 258, 259, 650, 651, 652, 653,\n",
       "       654, 655, 656, 657, 658, 659, 660, 661, 662, 663, 670], dtype=int64)"
      ]
     },
     "execution_count": 20,
     "metadata": {},
     "output_type": "execute_result"
    }
   ],
   "source": [
    "np.sort(data['ccs_diagnosis_code'].unique())"
   ]
  },
  {
   "cell_type": "code",
   "execution_count": 21,
   "metadata": {},
   "outputs": [
    {
     "data": {
      "text/plain": [
       "array([  0,   1,   2,   3,   4,   5,   6,   7,   8,   9,  10,  11,  12,\n",
       "        13,  14,  15,  16,  17,  18,  19,  20,  21,  22,  23,  24,  25,\n",
       "        26,  27,  28,  29,  30,  31,  32,  33,  34,  35,  36,  37,  38,\n",
       "        39,  40,  41,  42,  43,  44,  45,  47,  48,  49,  50,  51,  52,\n",
       "        53,  54,  55,  56,  57,  58,  59,  60,  61,  62,  63,  64,  65,\n",
       "        66,  67,  68,  69,  70,  71,  72,  73,  74,  75,  76,  77,  78,\n",
       "        79,  80,  81,  82,  83,  84,  85,  86,  87,  88,  89,  90,  91,\n",
       "        92,  93,  94,  95,  96,  97,  98,  99, 100, 101, 102, 103, 104,\n",
       "       105, 106, 107, 108, 109, 110, 111, 112, 113, 114, 115, 116, 117,\n",
       "       118, 119, 120, 121, 123, 124, 125, 127, 128, 129, 130, 131, 132,\n",
       "       133, 134, 135, 136, 137, 138, 139, 140, 141, 142, 143, 144, 145,\n",
       "       146, 147, 148, 149, 150, 151, 152, 153, 154, 155, 156, 157, 158,\n",
       "       159, 160, 161, 162, 163, 164, 165, 166, 167, 168, 169, 170, 171,\n",
       "       172, 173, 174, 175, 176, 177, 178, 179, 180, 181, 182, 183, 184,\n",
       "       185, 186, 187, 188, 189, 190, 191, 192, 193, 194, 195, 196, 197,\n",
       "       198, 199, 200, 201, 202, 203, 204, 205, 206, 207, 208, 209, 210,\n",
       "       211, 212, 213, 214, 215, 216, 217, 218, 219, 220, 221, 222, 223,\n",
       "       224, 225, 226, 227, 228, 229, 231], dtype=int64)"
      ]
     },
     "execution_count": 21,
     "metadata": {},
     "output_type": "execute_result"
    }
   ],
   "source": [
    "np.sort(data['ccs_procedure_code'].unique())"
   ]
  },
  {
   "cell_type": "markdown",
   "metadata": {},
   "source": [
    "## 3.2. Removing Unnecessary Features"
   ]
  },
  {
   "cell_type": "code",
   "execution_count": 22,
   "metadata": {},
   "outputs": [],
   "source": [
    "data3 = data"
   ]
  },
  {
   "cell_type": "code",
   "execution_count": 23,
   "metadata": {},
   "outputs": [],
   "source": [
    "data = data.drop(['Area_Service','Admission_type','ethnicity','Hospital County', 'Hospital Id', 'Abortion','Home or self care,'],axis=1)"
   ]
  },
  {
   "cell_type": "code",
   "execution_count": 24,
   "metadata": {},
   "outputs": [
    {
     "data": {
      "text/html": [
       "<div>\n",
       "<style scoped>\n",
       "    .dataframe tbody tr th:only-of-type {\n",
       "        vertical-align: middle;\n",
       "    }\n",
       "\n",
       "    .dataframe tbody tr th {\n",
       "        vertical-align: top;\n",
       "    }\n",
       "\n",
       "    .dataframe thead th {\n",
       "        text-align: right;\n",
       "    }\n",
       "</style>\n",
       "<table border=\"1\" class=\"dataframe\">\n",
       "  <thead>\n",
       "    <tr style=\"text-align: right;\">\n",
       "      <th></th>\n",
       "      <th>Age</th>\n",
       "      <th>Gender</th>\n",
       "      <th>Cultural_group</th>\n",
       "      <th>Days_spend_hsptl</th>\n",
       "      <th>ccs_diagnosis_code</th>\n",
       "      <th>ccs_procedure_code</th>\n",
       "      <th>apr_drg_description</th>\n",
       "      <th>Code_illness</th>\n",
       "      <th>Mortality risk</th>\n",
       "      <th>Surg_Description</th>\n",
       "      <th>Weight_baby</th>\n",
       "      <th>Emergency dept_yes/No</th>\n",
       "      <th>Tot_charg</th>\n",
       "      <th>Tot_cost</th>\n",
       "      <th>ratio_of_total_costs_to_total_charges</th>\n",
       "      <th>Result</th>\n",
       "      <th>Payment_Typology</th>\n",
       "    </tr>\n",
       "  </thead>\n",
       "  <tbody>\n",
       "    <tr>\n",
       "      <th>0</th>\n",
       "      <td>3</td>\n",
       "      <td>F</td>\n",
       "      <td>White</td>\n",
       "      <td>4</td>\n",
       "      <td>122</td>\n",
       "      <td>0</td>\n",
       "      <td>Other pneumonia</td>\n",
       "      <td>1</td>\n",
       "      <td>1.0</td>\n",
       "      <td>Medical</td>\n",
       "      <td>0</td>\n",
       "      <td>Y</td>\n",
       "      <td>5511.95</td>\n",
       "      <td>5582.49</td>\n",
       "      <td>1.012798</td>\n",
       "      <td>1</td>\n",
       "      <td>1</td>\n",
       "    </tr>\n",
       "    <tr>\n",
       "      <th>1</th>\n",
       "      <td>5</td>\n",
       "      <td>F</td>\n",
       "      <td>White</td>\n",
       "      <td>4</td>\n",
       "      <td>197</td>\n",
       "      <td>0</td>\n",
       "      <td>Cellulitis &amp; other skin infections</td>\n",
       "      <td>3</td>\n",
       "      <td>2.0</td>\n",
       "      <td>Medical</td>\n",
       "      <td>0</td>\n",
       "      <td>Y</td>\n",
       "      <td>4783.20</td>\n",
       "      <td>5162.82</td>\n",
       "      <td>1.079365</td>\n",
       "      <td>1</td>\n",
       "      <td>1</td>\n",
       "    </tr>\n",
       "    <tr>\n",
       "      <th>2</th>\n",
       "      <td>3</td>\n",
       "      <td>F</td>\n",
       "      <td>White</td>\n",
       "      <td>3</td>\n",
       "      <td>122</td>\n",
       "      <td>0</td>\n",
       "      <td>Other pneumonia</td>\n",
       "      <td>1</td>\n",
       "      <td>1.0</td>\n",
       "      <td>Medical</td>\n",
       "      <td>0</td>\n",
       "      <td>Y</td>\n",
       "      <td>3829.15</td>\n",
       "      <td>4056.52</td>\n",
       "      <td>1.059379</td>\n",
       "      <td>1</td>\n",
       "      <td>1</td>\n",
       "    </tr>\n",
       "    <tr>\n",
       "      <th>3</th>\n",
       "      <td>1</td>\n",
       "      <td>F</td>\n",
       "      <td>White</td>\n",
       "      <td>1</td>\n",
       "      <td>122</td>\n",
       "      <td>0</td>\n",
       "      <td>Other pneumonia</td>\n",
       "      <td>1</td>\n",
       "      <td>1.0</td>\n",
       "      <td>Medical</td>\n",
       "      <td>0</td>\n",
       "      <td>Y</td>\n",
       "      <td>1108.20</td>\n",
       "      <td>1644.75</td>\n",
       "      <td>1.484167</td>\n",
       "      <td>0</td>\n",
       "      <td>1</td>\n",
       "    </tr>\n",
       "    <tr>\n",
       "      <th>4</th>\n",
       "      <td>5</td>\n",
       "      <td>F</td>\n",
       "      <td>White</td>\n",
       "      <td>3</td>\n",
       "      <td>122</td>\n",
       "      <td>0</td>\n",
       "      <td>Other pneumonia</td>\n",
       "      <td>2</td>\n",
       "      <td>3.0</td>\n",
       "      <td>Medical</td>\n",
       "      <td>0</td>\n",
       "      <td>Y</td>\n",
       "      <td>3418.18</td>\n",
       "      <td>3370.87</td>\n",
       "      <td>0.986161</td>\n",
       "      <td>1</td>\n",
       "      <td>1</td>\n",
       "    </tr>\n",
       "  </tbody>\n",
       "</table>\n",
       "</div>"
      ],
      "text/plain": [
       "   Age Gender Cultural_group  Days_spend_hsptl  ccs_diagnosis_code  \\\n",
       "0    3      F          White                 4                 122   \n",
       "1    5      F          White                 4                 197   \n",
       "2    3      F          White                 3                 122   \n",
       "3    1      F          White                 1                 122   \n",
       "4    5      F          White                 3                 122   \n",
       "\n",
       "   ccs_procedure_code                 apr_drg_description  Code_illness  \\\n",
       "0                   0                     Other pneumonia             1   \n",
       "1                   0  Cellulitis & other skin infections             3   \n",
       "2                   0                     Other pneumonia             1   \n",
       "3                   0                     Other pneumonia             1   \n",
       "4                   0                     Other pneumonia             2   \n",
       "\n",
       "   Mortality risk Surg_Description  Weight_baby Emergency dept_yes/No  \\\n",
       "0             1.0          Medical            0                     Y   \n",
       "1             2.0          Medical            0                     Y   \n",
       "2             1.0          Medical            0                     Y   \n",
       "3             1.0          Medical            0                     Y   \n",
       "4             3.0          Medical            0                     Y   \n",
       "\n",
       "   Tot_charg  Tot_cost  ratio_of_total_costs_to_total_charges  Result  \\\n",
       "0    5511.95   5582.49                               1.012798       1   \n",
       "1    4783.20   5162.82                               1.079365       1   \n",
       "2    3829.15   4056.52                               1.059379       1   \n",
       "3    1108.20   1644.75                               1.484167       0   \n",
       "4    3418.18   3370.87                               0.986161       1   \n",
       "\n",
       "   Payment_Typology  \n",
       "0                 1  \n",
       "1                 1  \n",
       "2                 1  \n",
       "3                 1  \n",
       "4                 1  "
      ]
     },
     "execution_count": 24,
     "metadata": {},
     "output_type": "execute_result"
    }
   ],
   "source": [
    "data.head()"
   ]
  },
  {
   "cell_type": "code",
   "execution_count": null,
   "metadata": {},
   "outputs": [],
   "source": []
  },
  {
   "cell_type": "markdown",
   "metadata": {},
   "source": [
    "## 3.3. Data Encoding\n"
   ]
  },
  {
   "cell_type": "code",
   "execution_count": 25,
   "metadata": {},
   "outputs": [],
   "source": [
    "l_encoder = LabelEncoder()"
   ]
  },
  {
   "cell_type": "code",
   "execution_count": 26,
   "metadata": {},
   "outputs": [],
   "source": [
    "t_encoder = TargetEncoder()"
   ]
  },
  {
   "cell_type": "code",
   "execution_count": 27,
   "metadata": {},
   "outputs": [],
   "source": [
    "pd.set_option('display.max_columns',500)"
   ]
  },
  {
   "cell_type": "code",
   "execution_count": 28,
   "metadata": {},
   "outputs": [
    {
     "data": {
      "text/html": [
       "<div>\n",
       "<style scoped>\n",
       "    .dataframe tbody tr th:only-of-type {\n",
       "        vertical-align: middle;\n",
       "    }\n",
       "\n",
       "    .dataframe tbody tr th {\n",
       "        vertical-align: top;\n",
       "    }\n",
       "\n",
       "    .dataframe thead th {\n",
       "        text-align: right;\n",
       "    }\n",
       "</style>\n",
       "<table border=\"1\" class=\"dataframe\">\n",
       "  <thead>\n",
       "    <tr style=\"text-align: right;\">\n",
       "      <th></th>\n",
       "      <th>Age</th>\n",
       "      <th>Gender</th>\n",
       "      <th>Cultural_group</th>\n",
       "      <th>Days_spend_hsptl</th>\n",
       "      <th>ccs_diagnosis_code</th>\n",
       "      <th>ccs_procedure_code</th>\n",
       "      <th>apr_drg_description</th>\n",
       "      <th>Code_illness</th>\n",
       "      <th>Mortality risk</th>\n",
       "      <th>Surg_Description</th>\n",
       "      <th>Weight_baby</th>\n",
       "      <th>Emergency dept_yes/No</th>\n",
       "      <th>Tot_charg</th>\n",
       "      <th>Tot_cost</th>\n",
       "      <th>ratio_of_total_costs_to_total_charges</th>\n",
       "      <th>Result</th>\n",
       "      <th>Payment_Typology</th>\n",
       "    </tr>\n",
       "  </thead>\n",
       "  <tbody>\n",
       "    <tr>\n",
       "      <th>0</th>\n",
       "      <td>3</td>\n",
       "      <td>F</td>\n",
       "      <td>White</td>\n",
       "      <td>4</td>\n",
       "      <td>122</td>\n",
       "      <td>0</td>\n",
       "      <td>Other pneumonia</td>\n",
       "      <td>1</td>\n",
       "      <td>1.0</td>\n",
       "      <td>Medical</td>\n",
       "      <td>0</td>\n",
       "      <td>Y</td>\n",
       "      <td>5511.95</td>\n",
       "      <td>5582.49</td>\n",
       "      <td>1.012798</td>\n",
       "      <td>1</td>\n",
       "      <td>1</td>\n",
       "    </tr>\n",
       "    <tr>\n",
       "      <th>1</th>\n",
       "      <td>5</td>\n",
       "      <td>F</td>\n",
       "      <td>White</td>\n",
       "      <td>4</td>\n",
       "      <td>197</td>\n",
       "      <td>0</td>\n",
       "      <td>Cellulitis &amp; other skin infections</td>\n",
       "      <td>3</td>\n",
       "      <td>2.0</td>\n",
       "      <td>Medical</td>\n",
       "      <td>0</td>\n",
       "      <td>Y</td>\n",
       "      <td>4783.20</td>\n",
       "      <td>5162.82</td>\n",
       "      <td>1.079365</td>\n",
       "      <td>1</td>\n",
       "      <td>1</td>\n",
       "    </tr>\n",
       "    <tr>\n",
       "      <th>2</th>\n",
       "      <td>3</td>\n",
       "      <td>F</td>\n",
       "      <td>White</td>\n",
       "      <td>3</td>\n",
       "      <td>122</td>\n",
       "      <td>0</td>\n",
       "      <td>Other pneumonia</td>\n",
       "      <td>1</td>\n",
       "      <td>1.0</td>\n",
       "      <td>Medical</td>\n",
       "      <td>0</td>\n",
       "      <td>Y</td>\n",
       "      <td>3829.15</td>\n",
       "      <td>4056.52</td>\n",
       "      <td>1.059379</td>\n",
       "      <td>1</td>\n",
       "      <td>1</td>\n",
       "    </tr>\n",
       "    <tr>\n",
       "      <th>3</th>\n",
       "      <td>1</td>\n",
       "      <td>F</td>\n",
       "      <td>White</td>\n",
       "      <td>1</td>\n",
       "      <td>122</td>\n",
       "      <td>0</td>\n",
       "      <td>Other pneumonia</td>\n",
       "      <td>1</td>\n",
       "      <td>1.0</td>\n",
       "      <td>Medical</td>\n",
       "      <td>0</td>\n",
       "      <td>Y</td>\n",
       "      <td>1108.20</td>\n",
       "      <td>1644.75</td>\n",
       "      <td>1.484167</td>\n",
       "      <td>0</td>\n",
       "      <td>1</td>\n",
       "    </tr>\n",
       "    <tr>\n",
       "      <th>4</th>\n",
       "      <td>5</td>\n",
       "      <td>F</td>\n",
       "      <td>White</td>\n",
       "      <td>3</td>\n",
       "      <td>122</td>\n",
       "      <td>0</td>\n",
       "      <td>Other pneumonia</td>\n",
       "      <td>2</td>\n",
       "      <td>3.0</td>\n",
       "      <td>Medical</td>\n",
       "      <td>0</td>\n",
       "      <td>Y</td>\n",
       "      <td>3418.18</td>\n",
       "      <td>3370.87</td>\n",
       "      <td>0.986161</td>\n",
       "      <td>1</td>\n",
       "      <td>1</td>\n",
       "    </tr>\n",
       "    <tr>\n",
       "      <th>...</th>\n",
       "      <td>...</td>\n",
       "      <td>...</td>\n",
       "      <td>...</td>\n",
       "      <td>...</td>\n",
       "      <td>...</td>\n",
       "      <td>...</td>\n",
       "      <td>...</td>\n",
       "      <td>...</td>\n",
       "      <td>...</td>\n",
       "      <td>...</td>\n",
       "      <td>...</td>\n",
       "      <td>...</td>\n",
       "      <td>...</td>\n",
       "      <td>...</td>\n",
       "      <td>...</td>\n",
       "      <td>...</td>\n",
       "      <td>...</td>\n",
       "    </tr>\n",
       "    <tr>\n",
       "      <th>1026365</th>\n",
       "      <td>5</td>\n",
       "      <td>F</td>\n",
       "      <td>Other Race</td>\n",
       "      <td>6</td>\n",
       "      <td>106</td>\n",
       "      <td>29</td>\n",
       "      <td>Cardiac arrhythmia &amp; conduction disorders</td>\n",
       "      <td>2</td>\n",
       "      <td>3.0</td>\n",
       "      <td>Medical</td>\n",
       "      <td>0</td>\n",
       "      <td>Y</td>\n",
       "      <td>69650.41</td>\n",
       "      <td>13896.82</td>\n",
       "      <td>0.199522</td>\n",
       "      <td>1</td>\n",
       "      <td>3</td>\n",
       "    </tr>\n",
       "    <tr>\n",
       "      <th>1026366</th>\n",
       "      <td>1</td>\n",
       "      <td>F</td>\n",
       "      <td>Other Race</td>\n",
       "      <td>2</td>\n",
       "      <td>8</td>\n",
       "      <td>231</td>\n",
       "      <td>Other infectious &amp; parasitic diseases</td>\n",
       "      <td>2</td>\n",
       "      <td>1.0</td>\n",
       "      <td>Medical</td>\n",
       "      <td>0</td>\n",
       "      <td>N</td>\n",
       "      <td>13587.38</td>\n",
       "      <td>3918.35</td>\n",
       "      <td>0.288382</td>\n",
       "      <td>1</td>\n",
       "      <td>3</td>\n",
       "    </tr>\n",
       "    <tr>\n",
       "      <th>1026367</th>\n",
       "      <td>4</td>\n",
       "      <td>M</td>\n",
       "      <td>Other Race</td>\n",
       "      <td>13</td>\n",
       "      <td>151</td>\n",
       "      <td>88</td>\n",
       "      <td>Hepatic coma &amp; other major acute liver disorders</td>\n",
       "      <td>4</td>\n",
       "      <td>4.0</td>\n",
       "      <td>Medical</td>\n",
       "      <td>0</td>\n",
       "      <td>Y</td>\n",
       "      <td>104629.78</td>\n",
       "      <td>24746.64</td>\n",
       "      <td>0.236516</td>\n",
       "      <td>0</td>\n",
       "      <td>3</td>\n",
       "    </tr>\n",
       "    <tr>\n",
       "      <th>1026368</th>\n",
       "      <td>3</td>\n",
       "      <td>F</td>\n",
       "      <td>Black/African American</td>\n",
       "      <td>2</td>\n",
       "      <td>143</td>\n",
       "      <td>86</td>\n",
       "      <td>Inguinal, femoral &amp; umbilical hernia procedures</td>\n",
       "      <td>1</td>\n",
       "      <td>1.0</td>\n",
       "      <td>Surgical</td>\n",
       "      <td>0</td>\n",
       "      <td>Y</td>\n",
       "      <td>27521.41</td>\n",
       "      <td>6766.04</td>\n",
       "      <td>0.245846</td>\n",
       "      <td>1</td>\n",
       "      <td>3</td>\n",
       "    </tr>\n",
       "    <tr>\n",
       "      <th>1026369</th>\n",
       "      <td>4</td>\n",
       "      <td>M</td>\n",
       "      <td>Other Race</td>\n",
       "      <td>2</td>\n",
       "      <td>106</td>\n",
       "      <td>0</td>\n",
       "      <td>Cardiac arrhythmia &amp; conduction disorders</td>\n",
       "      <td>1</td>\n",
       "      <td>1.0</td>\n",
       "      <td>Medical</td>\n",
       "      <td>0</td>\n",
       "      <td>Y</td>\n",
       "      <td>24832.23</td>\n",
       "      <td>4974.66</td>\n",
       "      <td>0.200331</td>\n",
       "      <td>1</td>\n",
       "      <td>2</td>\n",
       "    </tr>\n",
       "  </tbody>\n",
       "</table>\n",
       "<p>1021911 rows × 17 columns</p>\n",
       "</div>"
      ],
      "text/plain": [
       "         Age Gender          Cultural_group  Days_spend_hsptl  \\\n",
       "0          3      F                   White                 4   \n",
       "1          5      F                   White                 4   \n",
       "2          3      F                   White                 3   \n",
       "3          1      F                   White                 1   \n",
       "4          5      F                   White                 3   \n",
       "...      ...    ...                     ...               ...   \n",
       "1026365    5      F              Other Race                 6   \n",
       "1026366    1      F              Other Race                 2   \n",
       "1026367    4      M              Other Race                13   \n",
       "1026368    3      F  Black/African American                 2   \n",
       "1026369    4      M              Other Race                 2   \n",
       "\n",
       "         ccs_diagnosis_code  ccs_procedure_code  \\\n",
       "0                       122                   0   \n",
       "1                       197                   0   \n",
       "2                       122                   0   \n",
       "3                       122                   0   \n",
       "4                       122                   0   \n",
       "...                     ...                 ...   \n",
       "1026365                 106                  29   \n",
       "1026366                   8                 231   \n",
       "1026367                 151                  88   \n",
       "1026368                 143                  86   \n",
       "1026369                 106                   0   \n",
       "\n",
       "                                      apr_drg_description  Code_illness  \\\n",
       "0                                         Other pneumonia             1   \n",
       "1                      Cellulitis & other skin infections             3   \n",
       "2                                         Other pneumonia             1   \n",
       "3                                         Other pneumonia             1   \n",
       "4                                         Other pneumonia             2   \n",
       "...                                                   ...           ...   \n",
       "1026365         Cardiac arrhythmia & conduction disorders             2   \n",
       "1026366             Other infectious & parasitic diseases             2   \n",
       "1026367  Hepatic coma & other major acute liver disorders             4   \n",
       "1026368   Inguinal, femoral & umbilical hernia procedures             1   \n",
       "1026369         Cardiac arrhythmia & conduction disorders             1   \n",
       "\n",
       "         Mortality risk Surg_Description  Weight_baby Emergency dept_yes/No  \\\n",
       "0                   1.0          Medical            0                     Y   \n",
       "1                   2.0          Medical            0                     Y   \n",
       "2                   1.0          Medical            0                     Y   \n",
       "3                   1.0          Medical            0                     Y   \n",
       "4                   3.0          Medical            0                     Y   \n",
       "...                 ...              ...          ...                   ...   \n",
       "1026365             3.0          Medical            0                     Y   \n",
       "1026366             1.0          Medical            0                     N   \n",
       "1026367             4.0          Medical            0                     Y   \n",
       "1026368             1.0         Surgical            0                     Y   \n",
       "1026369             1.0          Medical            0                     Y   \n",
       "\n",
       "         Tot_charg  Tot_cost  ratio_of_total_costs_to_total_charges  Result  \\\n",
       "0          5511.95   5582.49                               1.012798       1   \n",
       "1          4783.20   5162.82                               1.079365       1   \n",
       "2          3829.15   4056.52                               1.059379       1   \n",
       "3          1108.20   1644.75                               1.484167       0   \n",
       "4          3418.18   3370.87                               0.986161       1   \n",
       "...            ...       ...                                    ...     ...   \n",
       "1026365   69650.41  13896.82                               0.199522       1   \n",
       "1026366   13587.38   3918.35                               0.288382       1   \n",
       "1026367  104629.78  24746.64                               0.236516       0   \n",
       "1026368   27521.41   6766.04                               0.245846       1   \n",
       "1026369   24832.23   4974.66                               0.200331       1   \n",
       "\n",
       "         Payment_Typology  \n",
       "0                       1  \n",
       "1                       1  \n",
       "2                       1  \n",
       "3                       1  \n",
       "4                       1  \n",
       "...                   ...  \n",
       "1026365                 3  \n",
       "1026366                 3  \n",
       "1026367                 3  \n",
       "1026368                 3  \n",
       "1026369                 2  \n",
       "\n",
       "[1021911 rows x 17 columns]"
      ]
     },
     "execution_count": 28,
     "metadata": {},
     "output_type": "execute_result"
    }
   ],
   "source": [
    "data"
   ]
  },
  {
   "cell_type": "code",
   "execution_count": 32,
   "metadata": {},
   "outputs": [],
   "source": [
    "columns =['Gender','Cultural_group','apr_drg_description','Surg_Description', 'Emergency dept_yes/No']"
   ]
  },
  {
   "cell_type": "code",
   "execution_count": 33,
   "metadata": {},
   "outputs": [],
   "source": [
    "def ecoder(x):\n",
    "    for col in x:\n",
    "        data[col] = l_encoder.fit_transform(data[col])\n"
   ]
  },
  {
   "cell_type": "code",
   "execution_count": 34,
   "metadata": {},
   "outputs": [],
   "source": [
    "ecoder(columns)"
   ]
  },
  {
   "cell_type": "code",
   "execution_count": 35,
   "metadata": {},
   "outputs": [
    {
     "data": {
      "text/html": [
       "<div>\n",
       "<style scoped>\n",
       "    .dataframe tbody tr th:only-of-type {\n",
       "        vertical-align: middle;\n",
       "    }\n",
       "\n",
       "    .dataframe tbody tr th {\n",
       "        vertical-align: top;\n",
       "    }\n",
       "\n",
       "    .dataframe thead th {\n",
       "        text-align: right;\n",
       "    }\n",
       "</style>\n",
       "<table border=\"1\" class=\"dataframe\">\n",
       "  <thead>\n",
       "    <tr style=\"text-align: right;\">\n",
       "      <th></th>\n",
       "      <th>Age</th>\n",
       "      <th>Gender</th>\n",
       "      <th>Cultural_group</th>\n",
       "      <th>Days_spend_hsptl</th>\n",
       "      <th>ccs_diagnosis_code</th>\n",
       "      <th>ccs_procedure_code</th>\n",
       "      <th>apr_drg_description</th>\n",
       "      <th>Code_illness</th>\n",
       "      <th>Mortality risk</th>\n",
       "      <th>Surg_Description</th>\n",
       "      <th>Weight_baby</th>\n",
       "      <th>Emergency dept_yes/No</th>\n",
       "      <th>Tot_charg</th>\n",
       "      <th>Tot_cost</th>\n",
       "      <th>ratio_of_total_costs_to_total_charges</th>\n",
       "      <th>Result</th>\n",
       "      <th>Payment_Typology</th>\n",
       "    </tr>\n",
       "  </thead>\n",
       "  <tbody>\n",
       "    <tr>\n",
       "      <th>0</th>\n",
       "      <td>3</td>\n",
       "      <td>0</td>\n",
       "      <td>2</td>\n",
       "      <td>4</td>\n",
       "      <td>122</td>\n",
       "      <td>0</td>\n",
       "      <td>237</td>\n",
       "      <td>1</td>\n",
       "      <td>1.0</td>\n",
       "      <td>0</td>\n",
       "      <td>0</td>\n",
       "      <td>1</td>\n",
       "      <td>5511.95</td>\n",
       "      <td>5582.49</td>\n",
       "      <td>1.012798</td>\n",
       "      <td>1</td>\n",
       "      <td>1</td>\n",
       "    </tr>\n",
       "    <tr>\n",
       "      <th>1</th>\n",
       "      <td>5</td>\n",
       "      <td>0</td>\n",
       "      <td>2</td>\n",
       "      <td>4</td>\n",
       "      <td>197</td>\n",
       "      <td>0</td>\n",
       "      <td>38</td>\n",
       "      <td>3</td>\n",
       "      <td>2.0</td>\n",
       "      <td>0</td>\n",
       "      <td>0</td>\n",
       "      <td>1</td>\n",
       "      <td>4783.20</td>\n",
       "      <td>5162.82</td>\n",
       "      <td>1.079365</td>\n",
       "      <td>1</td>\n",
       "      <td>1</td>\n",
       "    </tr>\n",
       "    <tr>\n",
       "      <th>2</th>\n",
       "      <td>3</td>\n",
       "      <td>0</td>\n",
       "      <td>2</td>\n",
       "      <td>3</td>\n",
       "      <td>122</td>\n",
       "      <td>0</td>\n",
       "      <td>237</td>\n",
       "      <td>1</td>\n",
       "      <td>1.0</td>\n",
       "      <td>0</td>\n",
       "      <td>0</td>\n",
       "      <td>1</td>\n",
       "      <td>3829.15</td>\n",
       "      <td>4056.52</td>\n",
       "      <td>1.059379</td>\n",
       "      <td>1</td>\n",
       "      <td>1</td>\n",
       "    </tr>\n",
       "    <tr>\n",
       "      <th>3</th>\n",
       "      <td>1</td>\n",
       "      <td>0</td>\n",
       "      <td>2</td>\n",
       "      <td>1</td>\n",
       "      <td>122</td>\n",
       "      <td>0</td>\n",
       "      <td>237</td>\n",
       "      <td>1</td>\n",
       "      <td>1.0</td>\n",
       "      <td>0</td>\n",
       "      <td>0</td>\n",
       "      <td>1</td>\n",
       "      <td>1108.20</td>\n",
       "      <td>1644.75</td>\n",
       "      <td>1.484167</td>\n",
       "      <td>0</td>\n",
       "      <td>1</td>\n",
       "    </tr>\n",
       "    <tr>\n",
       "      <th>4</th>\n",
       "      <td>5</td>\n",
       "      <td>0</td>\n",
       "      <td>2</td>\n",
       "      <td>3</td>\n",
       "      <td>122</td>\n",
       "      <td>0</td>\n",
       "      <td>237</td>\n",
       "      <td>2</td>\n",
       "      <td>3.0</td>\n",
       "      <td>0</td>\n",
       "      <td>0</td>\n",
       "      <td>1</td>\n",
       "      <td>3418.18</td>\n",
       "      <td>3370.87</td>\n",
       "      <td>0.986161</td>\n",
       "      <td>1</td>\n",
       "      <td>1</td>\n",
       "    </tr>\n",
       "    <tr>\n",
       "      <th>...</th>\n",
       "      <td>...</td>\n",
       "      <td>...</td>\n",
       "      <td>...</td>\n",
       "      <td>...</td>\n",
       "      <td>...</td>\n",
       "      <td>...</td>\n",
       "      <td>...</td>\n",
       "      <td>...</td>\n",
       "      <td>...</td>\n",
       "      <td>...</td>\n",
       "      <td>...</td>\n",
       "      <td>...</td>\n",
       "      <td>...</td>\n",
       "      <td>...</td>\n",
       "      <td>...</td>\n",
       "      <td>...</td>\n",
       "      <td>...</td>\n",
       "    </tr>\n",
       "    <tr>\n",
       "      <th>1026365</th>\n",
       "      <td>5</td>\n",
       "      <td>0</td>\n",
       "      <td>1</td>\n",
       "      <td>6</td>\n",
       "      <td>106</td>\n",
       "      <td>29</td>\n",
       "      <td>28</td>\n",
       "      <td>2</td>\n",
       "      <td>3.0</td>\n",
       "      <td>0</td>\n",
       "      <td>0</td>\n",
       "      <td>1</td>\n",
       "      <td>69650.41</td>\n",
       "      <td>13896.82</td>\n",
       "      <td>0.199522</td>\n",
       "      <td>1</td>\n",
       "      <td>3</td>\n",
       "    </tr>\n",
       "    <tr>\n",
       "      <th>1026366</th>\n",
       "      <td>1</td>\n",
       "      <td>0</td>\n",
       "      <td>1</td>\n",
       "      <td>2</td>\n",
       "      <td>8</td>\n",
       "      <td>231</td>\n",
       "      <td>227</td>\n",
       "      <td>2</td>\n",
       "      <td>1.0</td>\n",
       "      <td>0</td>\n",
       "      <td>0</td>\n",
       "      <td>0</td>\n",
       "      <td>13587.38</td>\n",
       "      <td>3918.35</td>\n",
       "      <td>0.288382</td>\n",
       "      <td>1</td>\n",
       "      <td>3</td>\n",
       "    </tr>\n",
       "    <tr>\n",
       "      <th>1026367</th>\n",
       "      <td>4</td>\n",
       "      <td>1</td>\n",
       "      <td>1</td>\n",
       "      <td>13</td>\n",
       "      <td>151</td>\n",
       "      <td>88</td>\n",
       "      <td>99</td>\n",
       "      <td>4</td>\n",
       "      <td>4.0</td>\n",
       "      <td>0</td>\n",
       "      <td>0</td>\n",
       "      <td>1</td>\n",
       "      <td>104629.78</td>\n",
       "      <td>24746.64</td>\n",
       "      <td>0.236516</td>\n",
       "      <td>0</td>\n",
       "      <td>3</td>\n",
       "    </tr>\n",
       "    <tr>\n",
       "      <th>1026368</th>\n",
       "      <td>3</td>\n",
       "      <td>0</td>\n",
       "      <td>0</td>\n",
       "      <td>2</td>\n",
       "      <td>143</td>\n",
       "      <td>86</td>\n",
       "      <td>109</td>\n",
       "      <td>1</td>\n",
       "      <td>1.0</td>\n",
       "      <td>1</td>\n",
       "      <td>0</td>\n",
       "      <td>1</td>\n",
       "      <td>27521.41</td>\n",
       "      <td>6766.04</td>\n",
       "      <td>0.245846</td>\n",
       "      <td>1</td>\n",
       "      <td>3</td>\n",
       "    </tr>\n",
       "    <tr>\n",
       "      <th>1026369</th>\n",
       "      <td>4</td>\n",
       "      <td>1</td>\n",
       "      <td>1</td>\n",
       "      <td>2</td>\n",
       "      <td>106</td>\n",
       "      <td>0</td>\n",
       "      <td>28</td>\n",
       "      <td>1</td>\n",
       "      <td>1.0</td>\n",
       "      <td>0</td>\n",
       "      <td>0</td>\n",
       "      <td>1</td>\n",
       "      <td>24832.23</td>\n",
       "      <td>4974.66</td>\n",
       "      <td>0.200331</td>\n",
       "      <td>1</td>\n",
       "      <td>2</td>\n",
       "    </tr>\n",
       "  </tbody>\n",
       "</table>\n",
       "<p>1021911 rows × 17 columns</p>\n",
       "</div>"
      ],
      "text/plain": [
       "         Age  Gender  Cultural_group  Days_spend_hsptl  ccs_diagnosis_code  \\\n",
       "0          3       0               2                 4                 122   \n",
       "1          5       0               2                 4                 197   \n",
       "2          3       0               2                 3                 122   \n",
       "3          1       0               2                 1                 122   \n",
       "4          5       0               2                 3                 122   \n",
       "...      ...     ...             ...               ...                 ...   \n",
       "1026365    5       0               1                 6                 106   \n",
       "1026366    1       0               1                 2                   8   \n",
       "1026367    4       1               1                13                 151   \n",
       "1026368    3       0               0                 2                 143   \n",
       "1026369    4       1               1                 2                 106   \n",
       "\n",
       "         ccs_procedure_code  apr_drg_description  Code_illness  \\\n",
       "0                         0                  237             1   \n",
       "1                         0                   38             3   \n",
       "2                         0                  237             1   \n",
       "3                         0                  237             1   \n",
       "4                         0                  237             2   \n",
       "...                     ...                  ...           ...   \n",
       "1026365                  29                   28             2   \n",
       "1026366                 231                  227             2   \n",
       "1026367                  88                   99             4   \n",
       "1026368                  86                  109             1   \n",
       "1026369                   0                   28             1   \n",
       "\n",
       "         Mortality risk  Surg_Description  Weight_baby  Emergency dept_yes/No  \\\n",
       "0                   1.0                 0            0                      1   \n",
       "1                   2.0                 0            0                      1   \n",
       "2                   1.0                 0            0                      1   \n",
       "3                   1.0                 0            0                      1   \n",
       "4                   3.0                 0            0                      1   \n",
       "...                 ...               ...          ...                    ...   \n",
       "1026365             3.0                 0            0                      1   \n",
       "1026366             1.0                 0            0                      0   \n",
       "1026367             4.0                 0            0                      1   \n",
       "1026368             1.0                 1            0                      1   \n",
       "1026369             1.0                 0            0                      1   \n",
       "\n",
       "         Tot_charg  Tot_cost  ratio_of_total_costs_to_total_charges  Result  \\\n",
       "0          5511.95   5582.49                               1.012798       1   \n",
       "1          4783.20   5162.82                               1.079365       1   \n",
       "2          3829.15   4056.52                               1.059379       1   \n",
       "3          1108.20   1644.75                               1.484167       0   \n",
       "4          3418.18   3370.87                               0.986161       1   \n",
       "...            ...       ...                                    ...     ...   \n",
       "1026365   69650.41  13896.82                               0.199522       1   \n",
       "1026366   13587.38   3918.35                               0.288382       1   \n",
       "1026367  104629.78  24746.64                               0.236516       0   \n",
       "1026368   27521.41   6766.04                               0.245846       1   \n",
       "1026369   24832.23   4974.66                               0.200331       1   \n",
       "\n",
       "         Payment_Typology  \n",
       "0                       1  \n",
       "1                       1  \n",
       "2                       1  \n",
       "3                       1  \n",
       "4                       1  \n",
       "...                   ...  \n",
       "1026365                 3  \n",
       "1026366                 3  \n",
       "1026367                 3  \n",
       "1026368                 3  \n",
       "1026369                 2  \n",
       "\n",
       "[1021911 rows x 17 columns]"
      ]
     },
     "execution_count": 35,
     "metadata": {},
     "output_type": "execute_result"
    }
   ],
   "source": [
    "data"
   ]
  },
  {
   "cell_type": "code",
   "execution_count": 36,
   "metadata": {},
   "outputs": [
    {
     "name": "stdout",
     "output_type": "stream",
     "text": [
      "<class 'pandas.core.frame.DataFrame'>\n",
      "Int64Index: 1021911 entries, 0 to 1026369\n",
      "Data columns (total 17 columns):\n",
      " #   Column                                 Non-Null Count    Dtype  \n",
      "---  ------                                 --------------    -----  \n",
      " 0   Age                                    1021911 non-null  int64  \n",
      " 1   Gender                                 1021911 non-null  int32  \n",
      " 2   Cultural_group                         1021911 non-null  int32  \n",
      " 3   Days_spend_hsptl                       1021911 non-null  int64  \n",
      " 4   ccs_diagnosis_code                     1021911 non-null  int64  \n",
      " 5   ccs_procedure_code                     1021911 non-null  int64  \n",
      " 6   apr_drg_description                    1021911 non-null  int32  \n",
      " 7   Code_illness                           1021911 non-null  int64  \n",
      " 8   Mortality risk                         1021911 non-null  float64\n",
      " 9   Surg_Description                       1021911 non-null  int32  \n",
      " 10  Weight_baby                            1021911 non-null  int64  \n",
      " 11  Emergency dept_yes/No                  1021911 non-null  int32  \n",
      " 12  Tot_charg                              1021911 non-null  float64\n",
      " 13  Tot_cost                               1021911 non-null  float64\n",
      " 14  ratio_of_total_costs_to_total_charges  1021911 non-null  float64\n",
      " 15  Result                                 1021911 non-null  int64  \n",
      " 16  Payment_Typology                       1021911 non-null  int64  \n",
      "dtypes: float64(4), int32(5), int64(8)\n",
      "memory usage: 120.8 MB\n"
     ]
    }
   ],
   "source": [
    "data.info()"
   ]
  },
  {
   "cell_type": "markdown",
   "metadata": {},
   "source": [
    "## 3.4. Feature Selection"
   ]
  },
  {
   "cell_type": "code",
   "execution_count": 37,
   "metadata": {},
   "outputs": [],
   "source": [
    "X = data.drop(['Result'],axis=1)\n",
    "y = data['Result']"
   ]
  },
  {
   "cell_type": "code",
   "execution_count": 38,
   "metadata": {},
   "outputs": [
    {
     "data": {
      "text/plain": [
       "array([1.86558690e-02, 8.91076263e-03, 1.80548215e-02, 9.42966844e-02,\n",
       "       8.83913024e-02, 5.86977465e-02, 7.47729579e-02, 1.68295608e-02,\n",
       "       1.45228554e-02, 3.78892958e-06, 1.55598301e-02, 6.34126510e-03,\n",
       "       1.85429344e-01, 1.85388135e-01, 1.84177742e-01, 2.99673346e-02])"
      ]
     },
     "execution_count": 38,
     "metadata": {},
     "output_type": "execute_result"
    }
   ],
   "source": [
    "ext_model = ExtraTreeClassifier()\n",
    "ext_model.fit(X,y)\n",
    "ext_model.feature_importances_"
   ]
  },
  {
   "cell_type": "code",
   "execution_count": 39,
   "metadata": {},
   "outputs": [
    {
     "data": {
      "text/html": [
       "<div>\n",
       "<style scoped>\n",
       "    .dataframe tbody tr th:only-of-type {\n",
       "        vertical-align: middle;\n",
       "    }\n",
       "\n",
       "    .dataframe tbody tr th {\n",
       "        vertical-align: top;\n",
       "    }\n",
       "\n",
       "    .dataframe thead th {\n",
       "        text-align: right;\n",
       "    }\n",
       "</style>\n",
       "<table border=\"1\" class=\"dataframe\">\n",
       "  <thead>\n",
       "    <tr style=\"text-align: right;\">\n",
       "      <th></th>\n",
       "      <th>0</th>\n",
       "    </tr>\n",
       "  </thead>\n",
       "  <tbody>\n",
       "    <tr>\n",
       "      <th>Tot_charg</th>\n",
       "      <td>0.185429</td>\n",
       "    </tr>\n",
       "    <tr>\n",
       "      <th>Tot_cost</th>\n",
       "      <td>0.185388</td>\n",
       "    </tr>\n",
       "    <tr>\n",
       "      <th>ratio_of_total_costs_to_total_charges</th>\n",
       "      <td>0.184178</td>\n",
       "    </tr>\n",
       "    <tr>\n",
       "      <th>Days_spend_hsptl</th>\n",
       "      <td>0.094297</td>\n",
       "    </tr>\n",
       "    <tr>\n",
       "      <th>ccs_diagnosis_code</th>\n",
       "      <td>0.088391</td>\n",
       "    </tr>\n",
       "    <tr>\n",
       "      <th>apr_drg_description</th>\n",
       "      <td>0.074773</td>\n",
       "    </tr>\n",
       "    <tr>\n",
       "      <th>ccs_procedure_code</th>\n",
       "      <td>0.058698</td>\n",
       "    </tr>\n",
       "    <tr>\n",
       "      <th>Payment_Typology</th>\n",
       "      <td>0.029967</td>\n",
       "    </tr>\n",
       "    <tr>\n",
       "      <th>Age</th>\n",
       "      <td>0.018656</td>\n",
       "    </tr>\n",
       "    <tr>\n",
       "      <th>Cultural_group</th>\n",
       "      <td>0.018055</td>\n",
       "    </tr>\n",
       "    <tr>\n",
       "      <th>Code_illness</th>\n",
       "      <td>0.016830</td>\n",
       "    </tr>\n",
       "    <tr>\n",
       "      <th>Weight_baby</th>\n",
       "      <td>0.015560</td>\n",
       "    </tr>\n",
       "    <tr>\n",
       "      <th>Mortality risk</th>\n",
       "      <td>0.014523</td>\n",
       "    </tr>\n",
       "    <tr>\n",
       "      <th>Gender</th>\n",
       "      <td>0.008911</td>\n",
       "    </tr>\n",
       "    <tr>\n",
       "      <th>Emergency dept_yes/No</th>\n",
       "      <td>0.006341</td>\n",
       "    </tr>\n",
       "    <tr>\n",
       "      <th>Surg_Description</th>\n",
       "      <td>0.000004</td>\n",
       "    </tr>\n",
       "  </tbody>\n",
       "</table>\n",
       "</div>"
      ],
      "text/plain": [
       "                                              0\n",
       "Tot_charg                              0.185429\n",
       "Tot_cost                               0.185388\n",
       "ratio_of_total_costs_to_total_charges  0.184178\n",
       "Days_spend_hsptl                       0.094297\n",
       "ccs_diagnosis_code                     0.088391\n",
       "apr_drg_description                    0.074773\n",
       "ccs_procedure_code                     0.058698\n",
       "Payment_Typology                       0.029967\n",
       "Age                                    0.018656\n",
       "Cultural_group                         0.018055\n",
       "Code_illness                           0.016830\n",
       "Weight_baby                            0.015560\n",
       "Mortality risk                         0.014523\n",
       "Gender                                 0.008911\n",
       "Emergency dept_yes/No                  0.006341\n",
       "Surg_Description                       0.000004"
      ]
     },
     "execution_count": 39,
     "metadata": {},
     "output_type": "execute_result"
    }
   ],
   "source": [
    "pd.DataFrame(ext_model.feature_importances_,X.columns).sort_values(by=0,ascending=False)"
   ]
  },
  {
   "cell_type": "markdown",
   "metadata": {},
   "source": [
    "## 3.5. Balancing The Dataset"
   ]
  },
  {
   "cell_type": "code",
   "execution_count": 40,
   "metadata": {},
   "outputs": [],
   "source": [
    "data = data.drop(['Surg_Description', 'Cultural_group'],axis=1)"
   ]
  },
  {
   "cell_type": "code",
   "execution_count": 41,
   "metadata": {},
   "outputs": [],
   "source": [
    "data.rename(columns = {'Emergency dept_yes/No':'Emergency'}, inplace = True)"
   ]
  },
  {
   "cell_type": "code",
   "execution_count": 42,
   "metadata": {},
   "outputs": [
    {
     "data": {
      "text/plain": [
       "Index(['Age', 'Gender', 'Days_spend_hsptl', 'ccs_diagnosis_code',\n",
       "       'ccs_procedure_code', 'apr_drg_description', 'Code_illness',\n",
       "       'Mortality risk', 'Weight_baby', 'Emergency', 'Tot_charg', 'Tot_cost',\n",
       "       'ratio_of_total_costs_to_total_charges', 'Result', 'Payment_Typology'],\n",
       "      dtype='object')"
      ]
     },
     "execution_count": 42,
     "metadata": {},
     "output_type": "execute_result"
    }
   ],
   "source": [
    "data.columns"
   ]
  },
  {
   "cell_type": "code",
   "execution_count": 43,
   "metadata": {},
   "outputs": [
    {
     "data": {
      "text/plain": [
       "1    577808\n",
       "0    444103\n",
       "Name: Emergency, dtype: int64"
      ]
     },
     "execution_count": 43,
     "metadata": {},
     "output_type": "execute_result"
    }
   ],
   "source": [
    "data['Emergency'].value_counts()"
   ]
  },
  {
   "cell_type": "code",
   "execution_count": 44,
   "metadata": {},
   "outputs": [],
   "source": [
    "X = data.drop('Result',axis=1)\n",
    "y = data['Result']"
   ]
  },
  {
   "cell_type": "code",
   "execution_count": 45,
   "metadata": {},
   "outputs": [],
   "source": [
    "from imblearn.over_sampling import SMOTE,RandomOverSampler"
   ]
  },
  {
   "cell_type": "code",
   "execution_count": 46,
   "metadata": {},
   "outputs": [],
   "source": [
    "balancer = RandomOverSampler()"
   ]
  },
  {
   "cell_type": "code",
   "execution_count": 47,
   "metadata": {},
   "outputs": [],
   "source": [
    "X,y = balancer.fit_resample(X,y)"
   ]
  },
  {
   "cell_type": "code",
   "execution_count": 48,
   "metadata": {},
   "outputs": [
    {
     "data": {
      "text/plain": [
       "1    765844\n",
       "0    765844\n",
       "Name: Result, dtype: int64"
      ]
     },
     "execution_count": 48,
     "metadata": {},
     "output_type": "execute_result"
    }
   ],
   "source": [
    "y.value_counts()"
   ]
  },
  {
   "cell_type": "markdown",
   "metadata": {},
   "source": [
    "## 3.6. Normalizing The Dataset"
   ]
  },
  {
   "cell_type": "code",
   "execution_count": 49,
   "metadata": {},
   "outputs": [],
   "source": [
    "scaler = Normalizer()\n",
    "X = scaler.fit_transform(X)"
   ]
  },
  {
   "cell_type": "code",
   "execution_count": 50,
   "metadata": {
    "scrolled": false
   },
   "outputs": [
    {
     "data": {
      "text/plain": [
       "array([[4.000e-04, 0.000e+00, 5.000e-04, ..., 7.112e-01, 1.000e-04,\n",
       "        1.000e-04],\n",
       "       [7.000e-04, 0.000e+00, 6.000e-04, ..., 7.333e-01, 2.000e-04,\n",
       "        1.000e-04],\n",
       "       [5.000e-04, 0.000e+00, 5.000e-04, ..., 7.264e-01, 2.000e-04,\n",
       "        2.000e-04],\n",
       "       ...,\n",
       "       [1.000e-04, 0.000e+00, 1.000e-04, ..., 1.775e-01, 0.000e+00,\n",
       "        1.000e-04],\n",
       "       [4.000e-04, 1.000e-04, 1.000e-04, ..., 2.843e-01, 0.000e+00,\n",
       "        4.000e-04],\n",
       "       [0.000e+00, 0.000e+00, 3.000e-04, ..., 2.496e-01, 0.000e+00,\n",
       "        0.000e+00]])"
      ]
     },
     "execution_count": 50,
     "metadata": {},
     "output_type": "execute_result"
    }
   ],
   "source": [
    "np.round(X,4)"
   ]
  },
  {
   "cell_type": "code",
   "execution_count": 51,
   "metadata": {},
   "outputs": [
    {
     "data": {
      "text/plain": [
       "1531688"
      ]
     },
     "execution_count": 51,
     "metadata": {},
     "output_type": "execute_result"
    }
   ],
   "source": [
    "len(X)"
   ]
  },
  {
   "cell_type": "markdown",
   "metadata": {},
   "source": [
    "# 4. Model Building"
   ]
  },
  {
   "cell_type": "markdown",
   "metadata": {},
   "source": [
    "## 4.1. Logistic Regression Model"
   ]
  },
  {
   "cell_type": "code",
   "execution_count": 52,
   "metadata": {},
   "outputs": [],
   "source": [
    " X_train, X_test, y_train, y_test = train_test_split(X, y, test_size=0.33, random_state=42,stratify=y)"
   ]
  },
  {
   "cell_type": "code",
   "execution_count": 53,
   "metadata": {},
   "outputs": [],
   "source": [
    "lr_model = LogisticRegression()"
   ]
  },
  {
   "cell_type": "code",
   "execution_count": 54,
   "metadata": {},
   "outputs": [
    {
     "data": {
      "text/plain": [
       "LogisticRegression()"
      ]
     },
     "execution_count": 54,
     "metadata": {},
     "output_type": "execute_result"
    }
   ],
   "source": [
    "lr_model.fit(X_train,y_train)"
   ]
  },
  {
   "cell_type": "code",
   "execution_count": 55,
   "metadata": {},
   "outputs": [
    {
     "data": {
      "text/plain": [
       "array([[ 81958,  81997],\n",
       "       [170771, 170732]], dtype=int64)"
      ]
     },
     "execution_count": 55,
     "metadata": {},
     "output_type": "execute_result"
    }
   ],
   "source": [
    "lr_preds = lr_model.predict(X_test)\n",
    "confusion_matrix(lr_preds,y_test)"
   ]
  },
  {
   "cell_type": "code",
   "execution_count": 56,
   "metadata": {},
   "outputs": [],
   "source": [
    "y_pred_train=lr_model.predict(X_train)"
   ]
  },
  {
   "cell_type": "code",
   "execution_count": 57,
   "metadata": {},
   "outputs": [],
   "source": [
    "y_pred_test=lr_model.predict(X_test)"
   ]
  },
  {
   "cell_type": "code",
   "execution_count": 58,
   "metadata": {},
   "outputs": [
    {
     "data": {
      "text/plain": [
       "0.5015064849010455"
      ]
     },
     "execution_count": 58,
     "metadata": {},
     "output_type": "execute_result"
    }
   ],
   "source": [
    "accuracy_score(y_train, y_pred_train)"
   ]
  },
  {
   "cell_type": "code",
   "execution_count": 59,
   "metadata": {},
   "outputs": [
    {
     "data": {
      "text/plain": [
       "0.49992284225395583"
      ]
     },
     "execution_count": 59,
     "metadata": {},
     "output_type": "execute_result"
    }
   ],
   "source": [
    "accuracy_score(y_test,y_pred_test)"
   ]
  },
  {
   "cell_type": "code",
   "execution_count": 60,
   "metadata": {},
   "outputs": [
    {
     "name": "stdout",
     "output_type": "stream",
     "text": [
      "0.5015064849010455\n"
     ]
    },
    {
     "data": {
      "text/plain": [
       "Text(0, 0.5, 'True Positive Rate')"
      ]
     },
     "execution_count": 60,
     "metadata": {},
     "output_type": "execute_result"
    },
    {
     "data": {
      "image/png": "[encoded data removed]",
      "text/plain": [
       "<Figure size 432x288 with 1 Axes>"
      ]
     },
     "metadata": {
      "needs_background": "light"
     },
     "output_type": "display_data"
    }
   ],
   "source": [
    "from sklearn.metrics import roc_curve,roc_auc_score\n",
    "fpr, tpr, thresholds = roc_curve(y, lr_model.predict_proba (X)[:,1])\n",
    "\n",
    "auc = roc_auc_score(y_train,y_pred_train)\n",
    "print(auc)\n",
    "\n",
    "import matplotlib.pyplot as plt\n",
    "plt.plot(fpr, tpr, color='blue', label='logit model ( area  = %0.2f)'%auc)\n",
    "plt.plot([0, 1], [0, 1], 'k--')\n",
    "plt.xlabel('False Positive Rate or [1 - True Negative Rate]')\n",
    "plt.ylabel('True Positive Rate')"
   ]
  },
  {
   "cell_type": "code",
   "execution_count": 61,
   "metadata": {},
   "outputs": [
    {
     "name": "stdout",
     "output_type": "stream",
     "text": [
      "              precision    recall  f1-score   support\n",
      "\n",
      "           0       0.32      0.50      0.39    163955\n",
      "           1       0.68      0.50      0.57    341503\n",
      "\n",
      "    accuracy                           0.50    505458\n",
      "   macro avg       0.50      0.50      0.48    505458\n",
      "weighted avg       0.56      0.50      0.52    505458\n",
      "\n"
     ]
    }
   ],
   "source": [
    "print(classification_report(lr_preds,y_test))"
   ]
  },
  {
   "cell_type": "markdown",
   "metadata": {},
   "source": [
    "## 4.2. Ensemble Models :  Random Forest & Decision Trees"
   ]
  },
  {
   "cell_type": "markdown",
   "metadata": {},
   "source": [
    "## 4.2.1. Random Forest"
   ]
  },
  {
   "cell_type": "code",
   "execution_count": 62,
   "metadata": {},
   "outputs": [],
   "source": [
    "rf_model = RandomForestClassifier()"
   ]
  },
  {
   "cell_type": "code",
   "execution_count": 63,
   "metadata": {},
   "outputs": [
    {
     "data": {
      "text/plain": [
       "RandomForestClassifier()"
      ]
     },
     "execution_count": 63,
     "metadata": {},
     "output_type": "execute_result"
    }
   ],
   "source": [
    "rf_model.fit(X_train,y_train)"
   ]
  },
  {
   "cell_type": "code",
   "execution_count": 64,
   "metadata": {},
   "outputs": [
    {
     "data": {
      "text/plain": [
       "array([[219764,  31094],\n",
       "       [ 32965, 221635]], dtype=int64)"
      ]
     },
     "execution_count": 64,
     "metadata": {},
     "output_type": "execute_result"
    }
   ],
   "source": [
    "preds = rf_model.predict(X_test)\n",
    "confusion_matrix(preds,y_test)"
   ]
  },
  {
   "cell_type": "code",
   "execution_count": 65,
   "metadata": {},
   "outputs": [],
   "source": [
    "y_pred_train=rf_model.predict(X_train)"
   ]
  },
  {
   "cell_type": "code",
   "execution_count": 66,
   "metadata": {},
   "outputs": [],
   "source": [
    "y_pred_test=rf_model.predict(X_test)"
   ]
  },
  {
   "cell_type": "code",
   "execution_count": 67,
   "metadata": {},
   "outputs": [
    {
     "data": {
      "text/plain": [
       "0.8732654345168145"
      ]
     },
     "execution_count": 67,
     "metadata": {},
     "output_type": "execute_result"
    }
   ],
   "source": [
    "accuracy_score(y_test,y_pred_test)"
   ]
  },
  {
   "cell_type": "code",
   "execution_count": 68,
   "metadata": {},
   "outputs": [
    {
     "data": {
      "text/plain": [
       "0.9979156719253969"
      ]
     },
     "execution_count": 68,
     "metadata": {},
     "output_type": "execute_result"
    }
   ],
   "source": [
    "accuracy_score(y_train,y_pred_train)"
   ]
  },
  {
   "cell_type": "code",
   "execution_count": 66,
   "metadata": {},
   "outputs": [
    {
     "name": "stdout",
     "output_type": "stream",
     "text": [
      "0.9979371096148038\n"
     ]
    },
    {
     "data": {
      "text/plain": [
       "Text(0, 0.5, 'True Positive Rate')"
      ]
     },
     "execution_count": 66,
     "metadata": {},
     "output_type": "execute_result"
    },
    {
     "data": {
      "image/png": "[encoded data removed]",
      "text/plain": [
       "<Figure size 432x288 with 1 Axes>"
      ]
     },
     "metadata": {
      "needs_background": "light"
     },
     "output_type": "display_data"
    }
   ],
   "source": [
    "from sklearn.metrics import roc_curve,roc_auc_score\n",
    "fpr, tpr, thresholds = roc_curve(y, rf_model.predict_proba (X)[:,1])\n",
    "\n",
    "auc = roc_auc_score(y_train,y_pred_train)\n",
    "print(auc)\n",
    "\n",
    "import matplotlib.pyplot as plt\n",
    "plt.plot(fpr, tpr, color='blue', label='logit model ( area  = %0.2f)'%auc)\n",
    "plt.plot([0, 1], [0, 1], 'k--')\n",
    "plt.xlabel('False Positive Rate or [1 - True Negative Rate]')\n",
    "plt.ylabel('True Positive Rate')"
   ]
  },
  {
   "cell_type": "code",
   "execution_count": 67,
   "metadata": {},
   "outputs": [
    {
     "name": "stdout",
     "output_type": "stream",
     "text": [
      "              precision    recall  f1-score   support\n",
      "\n",
      "           0       0.87      0.88      0.87    249916\n",
      "           1       0.88      0.87      0.88    255542\n",
      "\n",
      "    accuracy                           0.87    505458\n",
      "   macro avg       0.87      0.87      0.87    505458\n",
      "weighted avg       0.87      0.87      0.87    505458\n",
      "\n"
     ]
    }
   ],
   "source": [
    "print(classification_report(preds,y_test))"
   ]
  },
  {
   "cell_type": "markdown",
   "metadata": {},
   "source": [
    "## 4.2.2. Decision Tree"
   ]
  },
  {
   "cell_type": "code",
   "execution_count": 176,
   "metadata": {},
   "outputs": [],
   "source": [
    "dt_model = DecisionTreeClassifier()"
   ]
  },
  {
   "cell_type": "code",
   "execution_count": 177,
   "metadata": {},
   "outputs": [
    {
     "data": {
      "text/plain": [
       "DecisionTreeClassifier()"
      ]
     },
     "execution_count": 177,
     "metadata": {},
     "output_type": "execute_result"
    }
   ],
   "source": [
    "dt_model.fit(X_train,y_train)"
   ]
  },
  {
   "cell_type": "code",
   "execution_count": 178,
   "metadata": {},
   "outputs": [
    {
     "data": {
      "text/plain": [
       "array([[227268,  80773],\n",
       "       [ 25461, 171956]], dtype=int64)"
      ]
     },
     "execution_count": 178,
     "metadata": {},
     "output_type": "execute_result"
    }
   ],
   "source": [
    "preds = dt_model.predict(X_test)\n",
    "confusion_matrix(preds,y_test)"
   ]
  },
  {
   "cell_type": "code",
   "execution_count": 179,
   "metadata": {},
   "outputs": [
    {
     "name": "stdout",
     "output_type": "stream",
     "text": [
      "              precision    recall  f1-score   support\n",
      "\n",
      "           0       0.90      0.74      0.81    308041\n",
      "           1       0.68      0.87      0.76    197417\n",
      "\n",
      "    accuracy                           0.79    505458\n",
      "   macro avg       0.79      0.80      0.79    505458\n",
      "weighted avg       0.81      0.79      0.79    505458\n",
      "\n"
     ]
    }
   ],
   "source": [
    "print(classification_report(preds,y_test))"
   ]
  },
  {
   "cell_type": "markdown",
   "metadata": {},
   "source": [
    "## HyperParameter Tuning"
   ]
  },
  {
   "cell_type": "code",
   "execution_count": 93,
   "metadata": {},
   "outputs": [
    {
     "data": {
      "text/plain": [
       "{'ccp_alpha': 0.0,\n",
       " 'class_weight': None,\n",
       " 'criterion': 'gini',\n",
       " 'max_depth': None,\n",
       " 'max_features': None,\n",
       " 'max_leaf_nodes': None,\n",
       " 'min_impurity_decrease': 0.0,\n",
       " 'min_samples_leaf': 1,\n",
       " 'min_samples_split': 2,\n",
       " 'min_weight_fraction_leaf': 0.0,\n",
       " 'random_state': None,\n",
       " 'splitter': 'best'}"
      ]
     },
     "execution_count": 93,
     "metadata": {},
     "output_type": "execute_result"
    }
   ],
   "source": [
    "dt_model.get_params()"
   ]
  },
  {
   "cell_type": "code",
   "execution_count": 48,
   "metadata": {},
   "outputs": [],
   "source": [
    "params = {'max_depth':[3,4,8,20,50,80,100,110,120,130],\n",
    "         'ccp_alpha':[0.00002,0.0001,0.0002,0.00001],\n",
    "         'min_samples_leaf': [1,2,4,6,8,12,20],\n",
    "         'min_samples_split': [1,2,4,6,8,12,16,22]}"
   ]
  },
  {
   "cell_type": "code",
   "execution_count": 94,
   "metadata": {},
   "outputs": [],
   "source": [
    "param_2 = [0.00000000000121,0.0000000012,0.000000000012] "
   ]
  },
  {
   "cell_type": "code",
   "execution_count": 107,
   "metadata": {},
   "outputs": [],
   "source": [
    "import matplotlib.pyplot as plt\n",
    "import sklearn.tree as tree"
   ]
  },
  {
   "cell_type": "code",
   "execution_count": 95,
   "metadata": {},
   "outputs": [],
   "source": [
    "tot_param2 = []\n",
    "tot_score = []\n",
    "def testing(model,y1):\n",
    "        for y in y1:\n",
    "                model = DecisionTreeClassifier(ccp_alpha=0.0000000012,)\n",
    "                model.fit(X_train,y_train)\n",
    "                predis = model.predict(X_test)\n",
    "                score = accuracy_score(predis,y_test)\n",
    "                tot_score.append(score)\n",
    "                tot_param2.append(y)                                    "
   ]
  },
  {
   "cell_type": "code",
   "execution_count": 96,
   "metadata": {},
   "outputs": [],
   "source": [
    "testing(dt_model,param_2)"
   ]
  },
  {
   "cell_type": "code",
   "execution_count": 97,
   "metadata": {},
   "outputs": [
    {
     "name": "stdout",
     "output_type": "stream",
     "text": [
      "[1.21e-12, 1.2e-09, 1.2e-11]\n",
      "/n\n",
      "[0.7901606797735389, 0.7905273237524841, 0.78995590521083]\n"
     ]
    }
   ],
   "source": [
    "print(tot_param2)\n",
    "print('/n')\n",
    "print(tot_score) #0.0000000001 best yet"
   ]
  },
  {
   "cell_type": "code",
   "execution_count": 52,
   "metadata": {},
   "outputs": [],
   "source": [
    "RSCV = RandomizedSearchCV(estimator=dt_model,param_distributions=params,verbose=10)"
   ]
  },
  {
   "cell_type": "code",
   "execution_count": 53,
   "metadata": {},
   "outputs": [
    {
     "data": {
      "text/plain": [
       "1041055"
      ]
     },
     "execution_count": 53,
     "metadata": {},
     "output_type": "execute_result"
    }
   ],
   "source": [
    "len(X_train)"
   ]
  },
  {
   "cell_type": "code",
   "execution_count": null,
   "metadata": {},
   "outputs": [],
   "source": [
    "RSCV.best_params_"
   ]
  },
  {
   "cell_type": "code",
   "execution_count": null,
   "metadata": {},
   "outputs": [],
   "source": [
    "RSCV.best_score_"
   ]
  },
  {
   "cell_type": "code",
   "execution_count": null,
   "metadata": {},
   "outputs": [],
   "source": []
  },
  {
   "cell_type": "markdown",
   "metadata": {},
   "source": [
    "# 5. Deployment"
   ]
  },
  {
   "cell_type": "code",
   "execution_count": 69,
   "metadata": {},
   "outputs": [],
   "source": [
    "import pickle"
   ]
  },
  {
   "cell_type": "code",
   "execution_count": 70,
   "metadata": {},
   "outputs": [],
   "source": [
    "pickle.dump(rf_model,open('final_deployment.pkl','wb'))"
   ]
  },
  {
   "cell_type": "code",
   "execution_count": null,
   "metadata": {},
   "outputs": [],
   "source": []
  }
 ],
 "metadata": {
  "kernelspec": {
   "display_name": "Python 3",
   "language": "python",
   "name": "python3"
  },
  "language_info": {
   "codemirror_mode": {
    "name": "ipython",
    "version": 3
   },
   "file_extension": ".py",
   "mimetype": "text/x-python",
   "name": "python",
   "nbconvert_exporter": "python",
   "pygments_lexer": "ipython3",
   "version": "3.8.5"
  }
 },
 "nbformat": 4,
 "nbformat_minor": 5
}
